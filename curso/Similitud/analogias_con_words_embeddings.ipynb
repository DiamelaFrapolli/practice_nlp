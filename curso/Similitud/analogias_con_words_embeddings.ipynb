{
 "cells": [
  {
   "ell_type"""c"e","
   "xecution_count""1,
   "etadata""{},
   "utputs""[],
   "ource""[
    "mport gensim""
   ]
  },
  {
   "ell_type"""c"e","
   "xecution_count""2,
   "etadata""{},
   "utputs""[],
   "ource""[
    "traemos a los datos en una variable llamada vectores, a través de la librería\n""
    "gensim, en la que traemos los modelos y los cargamos en vectores, en un formato\n""
    "que se llama word2vec\n""
    "n""
    "ectores = gensim.models.KeyedVectors.load_word2vec_format('SBW-vectors-300-min5.txt')""
   ]
  },
  {
   "ell_type"""c"e","
   "xecution_count""3,
   "etadata""{},
   "utputs""[],
   "ource""[
    "Definimos función \""alogia\" "la que entregamos 3 vectores como parámetros\n","
    "los vectores son palabras, y la función nos devolverá un vector 4 (otra palabra)\n""
    "en base a las primeras tres que le entregamos:\n""
    "n""
    "''\n""
    "j: \n""
    "1 = \""mbre\"\","
    "2 = \""y\"\","
    "3 = \""jer\" "","
    "n""
    "utput -> v4 = \""ina\" "","
    "''\n""
    "n""
    "ef analogia(v1, v2, v3):\n""
    "   similitud = vectores.most_similar(positive=[v1, v3], negative=[v2])\n""
    "   print(f\""1} es a {v2} como {similitud[0][0]} es a {v3}\")"","
    "n""
    "ponemos similitud[0][0] porque similitud es una matriz generada por la función\n""
    "most_similar de gensim, entonces aquel elemento que se encuentre en fila 0 \n""
    "y columna 0 es aquel con mayor similitud""
   ]
  },
  {
   "ell_type"""c"e","
   "xecution_count""4,
   "etadata""{},
   "utputs""[
    {
     "ame"""s"out","
     "utput_type"""s"eam","
     "ext""[
      "ey es a hombre como reina es a mujer\n""
     ]
    }
   ],
   "ource""[
    "nalogia('rey', 'hombre', 'mujer')""
   ]
  },
  {
   "ell_type"""c"e","
   "xecution_count""6,
   "etadata""{},
   "utputs""[
    {
     "ame"""s"out","
     "utput_type"""s"eam","
     "ext""[
      "lemania es a alemán como España es a español\n""
     ]
    }
   ],
   "ource""[
    "nalogia('Alemania','alemán','español')""
   ]
  },
  {
   "ell_type"""c"e","
   "xecution_count""7,
   "etadata""{},
   "utputs""[
    {
     "ame"""s"out","
     "utput_type"""s"eam","
     "ext""[
      "aca es a leche como gallina es a huevo\n""
     ]
    }
   ],
   "ource""[
    "nalogia('vaca','leche','huevo')""
   ]
  },
  {
   "ell_type"""c"e","
   "xecution_count""9,
   "etadata""{},
   "utputs""[
    {
     "ame"""s"out","
     "utput_type"""s"eam","
     "ext""[
      "arne es a carnívoro como verduras es a vegetal\n""
     ]
    }
   ],
   "ource""[
    "No es infalible, también da outputs equivocados\n""
    "n""
    "nalogia('carne', 'carnívoro','vegetal')\n""
    "n""
    "output: carne es a carnívoro como verduras es a vegetal""
   ]
  },
  {
   "ell_type"""c"e","
   "xecution_count""14,
   "etadata""{},
   "utputs""[],
   "ource""[
    "Dada una palabra, debería dar los vecinos \""s cercanos\" "esa palabra\n","
    "n""
    "ef cercanos(palabra):\n""
    "   vecinos = vectores.most_similar(positive=[palabra])\n""
    "   print(f\""labras más similares a {palabra}\")"","
    "   for word, score in vecinos:\n""
    "       print(\""t%s\" "word)""
   ]
  },
  {
   "ell_type"""c"e","
   "xecution_count""15,
   "etadata""{},
   "utputs""[
    {
     "ame"""s"out","
     "utput_type"""s"eam","
     "ext""[
      "alabras más similares a rey\n""
      "tmonarca\n""
      "treyes\n""
      "treino\n""
      "tpríncipe\n""
      "treina\n""
      "tHarthacnut\n""
      "tRagnald\n""
      "tSverkersson\n""
      "tregente\n""
      "tHardeknut\n""
     ]
    }
   ],
   "ource""[
    "ercanos(\""y\")""
   ]
  },
  {
   "ell_type"""c"e","
   "xecution_count""16,
   "etadata""{},
   "utputs""[
    {
     "ame"""s"out","
     "utput_type"""s"eam","
     "ext""[
      "alabras más similares a Chile\n""
      "tchileno\n""
      "tPerú\n""
      "tArgentina\n""
      "tchilena\n""
      "tValparaíso\n""
      "tCoquimbo\n""
      "tBolivia\n""
      "tEcuador\n""
      "tAntofagasta\n""
      "tchilenos\n""
      "alabras más similares a chile\n""
      "ttomate\n""
      "tjalapeño\n""
      "tchiles\n""
      "tají\n""
      "tjitomate\n""
      "tpiquín\n""
      "tcilantro\n""
      "taguacate\n""
      "tcebolla\n""
      "tfrijol\n""
     ]
    }
   ],
   "ource""[
    "ercanos(\""ile\")"","
    "ercanos(\""ile\")""
   ]
  }
 ],
 "etadata""{
  "ernelspec""{
   "isplay_name"""b"e","
   "anguage"""p"hon","
   "ame"""p"hon3""
  },
  "anguage_info""{
   "odemirror_mode""{
    "ame"""i"thon","
    "ersion""3
   },
   "ile_extension"""."","
   "imetype"""t"t/x-python","
   "ame"""p"hon","
   "bconvert_exporter"""p"hon","
   "ygments_lexer"""i"thon3","
   "ersion"""3"1.5""
  }
 },
 "bformat""4,
 "bformat_minor""2
}
