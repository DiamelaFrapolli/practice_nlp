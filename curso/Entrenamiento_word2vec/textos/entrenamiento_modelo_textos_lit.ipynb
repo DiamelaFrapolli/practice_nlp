{
 "cells": [
  {
   "ell_type"""c"e","
   "xecution_count""2,
   "etadata""{},
   "utputs""[],
   "ource""[
    "mport string\n""
    "rom gensim.models import Word2Vec\n""
    "mport re\n""
    "mport os""
   ]
  },
  {
   "ell_type"""c"e","
   "xecution_count""3,
   "etadata""{},
   "utputs""[],
   "ource""[
    "ef extraer_txt(ruta):\n""
    "   with open(ruta, 'r', encoding='utf-8') as archivo:\n""
    "       texto = archivo.read()\n""
    "   return texto""
   ]
  },
  {
   "ell_type"""c"e","
   "xecution_count""4,
   "etadata""{},
   "utputs""[],
   "ource""[
    "extos = []""
   ]
  },
  {
   "ell_type"""c"e","
   "xecution_count""5,
   "etadata""{},
   "utputs""[],
   "ource""[
    "or i in range(1, 133):  \n""
    "   # Itera sobre los archivos texto_1.txt hasta texto_132.txt\n""
    "   ruta_archivo = f'texto_{i}.txt'\n""
    "   texto_extraido = extraer_txt(ruta_archivo)\n""
    "   textos.append(texto_extraido)""
   ]
  },
  {
   "ell_type"""c"e","
   "xecution_count""6,
   "etadata""{},
   "utputs""[
    {
     "ata""{
      "ext/plain""[
       "32""
      ]
     },
     "xecution_count""6,
     "etadata""{},
     "utput_type"""e"cute_result""
    }
   ],
   "ource""[
    "en(textos)""
   ]
  },
  {
   "ell_type"""c"e","
   "xecution_count""7,
   "etadata""{},
   "utputs""[],
   "ource""[
    "dividimos el texto en frases usando la coma como separador:\n""
    "raciones_totales = []\n""
    "amaño = 0\n""
    "n""
    "or texto in textos:\n""
    "   tamaño = tamaño + len(texto)\n""
    "   oraciones = texto.split('.')\n""
    "   oraciones_totales.extend(oraciones)\n""
    "   ""
   ]
  },
  {
   "ell_type"""c"e","
   "xecution_count""8,
   "etadata""{},
   "utputs""[
    {
     "ata""{
      "ext/plain""[
       "6306541""
      ]
     },
     "xecution_count""8,
     "etadata""{},
     "utput_type"""e"cute_result""
    }
   ],
   "ource""[
    "amaño""
   ]
  },
  {
   "ell_type"""c"e","
   "xecution_count""9,
   "etadata""{},
   "utputs""[
    {
     "ame"""s"out","
     "utput_type"""s"eam","
     "ext""[
      "05045\n""
     ]
    }
   ],
   "ource""[
    "rint(len(oraciones_totales))""
   ]
  },
  {
   "ell_type"""c"e","
   "xecution_count""10,
   "etadata""{},
   "utputs""[],
   "ource""[
    "raciones_limpias = []\n""
    "n""
    "or oracion in oraciones_totales:\n""
    "   #Eliminar puntuación y dividir por espacios:\n""
    "   tokens = oracion.translate(str.maketrans('',\n""
    "                                          '',\n""
    "                                          string.punctuation)).split()\n""
    "   #convertir a minúsculas:\n""
    "   tokens = [word.lower() for word in tokens if word.isalpha()]\n""
    "   if tokens: #añadir solo si hay tokens\n""
    "       oraciones_limpias.append(tokens)""
   ]
  },
  {
   "ell_type"""c"e","
   "xecution_count""11,
   "etadata""{},
   "utputs""[],
   "ource""[
    "Entrenar modelo:\n""
    "n""
    "odel = Word2Vec(sentences=oraciones_limpias,\n""
    "                vector_size=500,\n""
    "                window=5,\n""
    "                min_count=1,\n""
    "                workers=8)""
   ]
  },
  {
   "ell_type"""c"e","
   "xecution_count""12,
   "etadata""{},
   "utputs""[
    {
     "ata""{
      "ext/plain""[
       "('egoísmo', 0.8173757791519165),\n""
       "('odio', 0.7894470691680908),\n""
       "('sentimiento', 0.7838183045387268),\n""
       "('cariño', 0.7597036361694336),\n""
       "('orgullo', 0.758834183216095),\n""
       "('respeto', 0.7501755952835083),\n""
       "('decoro', 0.7409740686416626),\n""
       "('castigo', 0.7211089134216309),\n""
       "('desprecio', 0.7182967662811279),\n""
       "('patriotismo', 0.7122797966003418)]""
      ]
     },
     "xecution_count""12,
     "etadata""{},
     "utput_type"""e"cute_result""
    }
   ],
   "ource""[
    "alabras_cercanas = model.wv.most_similar('amor', topn=10)\n""
    "alabras_cercanas""
   ]
  },
  {
   "ell_type"""c"e","
   "xecution_count""13,
   "etadata""{},
   "utputs""[
    {
     "ata""{
      "ext/plain""[
       "('tarde', 0.8557620644569397),\n""
       "('mañana', 0.7794113159179688),\n""
       "('madrugada', 0.7502646446228027),\n""
       "('hora', 0.7330758571624756),\n""
       "('semana', 0.6852068305015564),\n""
       "('fecha', 0.6556720733642578),\n""
       "('operación', 0.6302555203437805),\n""
       "('temporada', 0.6275692582130432),\n""
       "('jornada', 0.6238430142402649),\n""
       "('visita', 0.6231864094734192)]""
      ]
     },
     "xecution_count""13,
     "etadata""{},
     "utput_type"""e"cute_result""
    }
   ],
   "ource""[
    "alabras_cercanas = model.wv.most_similar('noche', topn=10)\n""
    "alabras_cercanas""
   ]
  },
  {
   "ell_type"""c"e","
   "xecution_count""14,
   "etadata""{},
   "utputs""[
    {
     "ata""{
      "ext/plain""[
       "('doncella', 0.7596890330314636),\n""
       "('niña', 0.7548633813858032),\n""
       "('criatura', 0.7523576021194458),\n""
       "('persona', 0.7441983819007874),\n""
       "('muchacha', 0.7386832237243652),\n""
       "('novia', 0.7080885767936707),\n""
       "('esposa', 0.6987743973731995),\n""
       "('hermana', 0.685944139957428),\n""
       "('parienta', 0.6769557595252991),\n""
       "('amiga', 0.675713837146759)]""
      ]
     },
     "xecution_count""14,
     "etadata""{},
     "utput_type"""e"cute_result""
    }
   ],
   "ource""[
    "alabras_cercanas = model.wv.most_similar('mujer', topn=10)\n""
    "alabras_cercanas""
   ]
  },
  {
   "ell_type"""c"e","
   "xecution_count""15,
   "etadata""{},
   "utputs""[],
   "ource""[
    "guardar modelos\n""
    "odel.save(\""t_esp.model\")"","
    "n""
    "n""
    "guardar embeddings:\n""
    "n""
    "odel.wv.save_word2vec_format('lit_esp.txt', binary = False)\n""
    "odel.wv.save_word2vec_format('lit_esp.bin', binary = True)""
   ]
  },
  {
   "ell_type"""c"e","
   "xecution_count""17,
   "etadata""{},
   "utputs""[],
   "ource""[
    "rom gensim.models import KeyedVectors\n""
    "n""
    "mbeddings_cargados = KeyedVectors.load_word2vec_format('lit_esp.txt', \n""
    "                                                       binary = False)\n""
   ]
  }
 ],
 "etadata""{
  "ernelspec""{
   "isplay_name"""b"e","
   "anguage"""p"hon","
   "ame"""p"hon3""
  },
  "anguage_info""{
   "odemirror_mode""{
    "ame"""i"thon","
    "ersion""3
   },
   "ile_extension"""."","
   "imetype"""t"t/x-python","
   "ame"""p"hon","
   "bconvert_exporter"""p"hon","
   "ygments_lexer"""i"thon3","
   "ersion"""3"1.5""
  }
 },
 "bformat""4,
 "bformat_minor""2
}
