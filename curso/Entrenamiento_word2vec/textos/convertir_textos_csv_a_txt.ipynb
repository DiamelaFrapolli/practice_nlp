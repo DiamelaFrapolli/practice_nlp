{
 "cells": [
  {
   "ell_type"""c"e","
   "xecution_count""1,
   "etadata""{},
   "utputs""[],
   "ource""[
    "mport pandas as pd\n""
    "mport os""
   ]
  },
  {
   "ell_type"""c"e","
   "xecution_count""2,
   "etadata""{},
   "utputs""[],
   "ource""[
    " Cargar el archivo CSV\n""
    "f = pd.read_csv('textos.csv')""
   ]
  },
  {
   "ell_type"""c"e","
   "xecution_count""5,
   "etadata""{},
   "utputs""[],
   "ource""[
    " Iterar sobre cada fila del DataFrame\n""
    "or index, row in df.iterrows():\n""
    "   # Obtener el autor, el título y el texto de la fila actual\n""
    "   autor = row['AUTOR']\n""
    "   titulo = row['TITULO']\n""
    "   texto = row['TEXTO']\n""
    "n""
    "   # Crear un archivo de texto con el autor, el título y el texto actual\n""
    "   with open(f'texto_{index+1}.txt', 'w', encoding='utf-8') as file:\n""
    "       file.write(f'Autor: {autor}\\n')\n""
    "       file.write(f'Título: {titulo}\\n\\n')\n""
    "       file.write(texto)""
   ]
  },
  {
   "ell_type"""c"e","
   "xecution_count""null,
   "etadata""{},
   "utputs""[],
   "ource""[
    "Listo :D""
   ]
  }
 ],
 "etadata""{
  "ernelspec""{
   "isplay_name"""b"e","
   "anguage"""p"hon","
   "ame"""p"hon3""
  },
  "anguage_info""{
   "odemirror_mode""{
    "ame"""i"thon","
    "ersion""3
   },
   "ile_extension"""."","
   "imetype"""t"t/x-python","
   "ame"""p"hon","
   "bconvert_exporter"""p"hon","
   "ygments_lexer"""i"thon3","
   "ersion"""3"1.5""
  }
 },
 "bformat""4,
 "bformat_minor""2
}
