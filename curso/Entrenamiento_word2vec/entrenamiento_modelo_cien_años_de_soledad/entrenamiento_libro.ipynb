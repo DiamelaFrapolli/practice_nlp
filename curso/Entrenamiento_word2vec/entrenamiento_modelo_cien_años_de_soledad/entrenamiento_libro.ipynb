{
 "cells": [
  {
   "ell_type"""c"e","
   "xecution_count""1,
   "etadata""{},
   "utputs""[],
   "ource""[
    "mport string\n""
    "rom gensim.models import Word2Vec\n""
    "mport PyPDF2\n""
    "mport re""
   ]
  },
  {
   "ell_type"""c"e","
   "xecution_count""2,
   "etadata""{},
   "utputs""[],
   "ource""[
    "ef extraer_pdf(ruta):\n""
    "   with open(ruta, 'rb') as archivo:\n""
    "       lector = PyPDF2.PdfReader(archivo)\n""
    "       texto = ''\n""
    "       for pagina in range(len(lector.pages)):\n""
    "           texto+= lector.pages[pagina].extract_text()\n""
    "   return texto\n""
    "n""
    "ocumento = extraer_pdf('cien_annos_de_soledad.pdf')""
   ]
  },
  {
   "ell_type"""c"e","
   "xecution_count""3,
   "etadata""{},
   "utputs""[
    {
     "ata""{
      "ext/plain""[
       "32032""
      ]
     },
     "xecution_count""3,
     "etadata""{},
     "utput_type"""e"cute_result""
    }
   ],
   "ource""[
    "en(documento)""
   ]
  },
  {
   "ell_type"""c"e","
   "xecution_count""5,
   "etadata""{},
   "utputs""[
    {
     "ata""{
      "ext/plain""[
       "862""
      ]
     },
     "xecution_count""5,
     "etadata""{},
     "utput_type"""e"cute_result""
    }
   ],
   "ource""[
    "dividimos el texto en frases usando la coma como separador:\n""
    "n""
    "rases = documento.split(',')\n""
    "en(frases)""
   ]
  },
  {
   "ell_type"""c"e","
   "xecution_count""6,
   "etadata""{},
   "utputs""[],
   "ource""[
    "rases_limpias = []\n""
    "n""
    "or frase in frases:\n""
    "   #Eliminar puntuación y dividir por espacios:\n""
    "   tokens = frase.translate(str.maketrans('',\n""
    "                                          '',\n""
    "                                          string.punctuation)).split()\n""
    "   #convertir a minúsculas:\n""
    "   tokens = [word.lower() for word in tokens if word.isalpha()]\n""
    "   if tokens: #añadir solo si hay tokens\n""
    "       frases_limpias.append(tokens)""
   ]
  },
  {
   "ell_type"""c"e","
   "xecution_count""7,
   "etadata""{},
   "utputs""[],
   "ource""[
    "Entrenar modelo:\n""
    "n""
    "odel = Word2Vec(sentences=frases_limpias,\n""
    "                vector_size=500,\n""
    "                window=5,\n""
    "                min_count=1,\n""
    "                workers=8)""
   ]
  },
  {
   "ell_type"""c"e","
   "xecution_count""8,
   "etadata""{},
   "utputs""[
    {
     "ata""{
      "ext/plain""[
       "('segundo', 0.998253583908081),\n""
       "('coronel', 0.996035099029541),\n""
       "('josé', 0.9951565265655518),\n""
       "('tío', 0.9886648654937744),\n""
       "('aureliano', 0.9875819087028503),\n""
       "('buendia', 0.9859392046928406),\n""
       "('raquel', 0.9831244945526123),\n""
       "('arcadio', 0.982789933681488),\n""
       "('yeso', 0.9825791120529175),\n""
       "('promovió', 0.981997013092041)]""
      ]
     },
     "xecution_count""8,
     "etadata""{},
     "utput_type"""e"cute_result""
    }
   ],
   "ource""[
    "alabras_cercanas = model.wv.most_similar('buendía', topn=10)\n""
    "alabras_cercanas""
   ]
  },
  {
   "ell_type"""c"e","
   "xecution_count""9,
   "etadata""{},
   "utputs""[
    {
     "ata""{
      "ext/plain""[
       "('guerra', 0.9999492168426514),\n""
       "('mujer', 0.9999272227287292),\n""
       "('toda', 0.9999235272407532),\n""
       "('remedios', 0.9999119639396667),\n""
       "('donde', 0.9999054670333862),\n""
       "('tenía', 0.9998989701271057),\n""
       "('desde', 0.9998973608016968),\n""
       "('modo', 0.9998956918716431),\n""
       "('muy', 0.9998893141746521),\n""
       "('frente', 0.9998884797096252)]""
      ]
     },
     "xecution_count""9,
     "etadata""{},
     "utput_type"""e"cute_result""
    }
   ],
   "ource""[
    "alabras_cercanas = model.wv.most_similar('noche', topn=10)\n""
    "alabras_cercanas""
   ]
  },
  {
   "ell_type"""c"e","
   "xecution_count""10,
   "etadata""{},
   "utputs""[
    {
     "ata""{
      "ext/plain""[
       "('tenía', 0.9999348521232605),\n""
       "('noche', 0.999927282333374),\n""
       "('desde', 0.9999228119850159),\n""
       "('vio', 0.9999080896377563),\n""
       "('toda', 0.9999052882194519),\n""
       "('remedios', 0.9999030232429504),\n""
       "('tanto', 0.9998984932899475),\n""
       "('fernanda', 0.9998963475227356),\n""
       "('tan', 0.999895453453064),\n""
       "('podía', 0.9998922348022461)]""
      ]
     },
     "xecution_count""10,
     "etadata""{},
     "utput_type"""e"cute_result""
    }
   ],
   "ource""[
    "alabras_cercanas = model.wv.most_similar('mujer', topn=10)\n""
    "alabras_cercanas""
   ]
  },
  {
   "ell_type"""c"e","
   "xecution_count""11,
   "etadata""{},
   "utputs""[],
   "ource""[
    "guardar modelos\n""
    "odel.save(\""0annos.model\")"","
    "n""
    "n""
    "guardar embeddings:\n""
    "n""
    "odel.wv.save_word2vec_format('100_emb.txt', binary = False)\n""
    "odel.wv.save_word2vec_format('100_emb.bin', binary = True)""
   ]
  }
 ],
 "etadata""{
  "ernelspec""{
   "isplay_name"""b"e","
   "anguage"""p"hon","
   "ame"""p"hon3""
  },
  "anguage_info""{
   "odemirror_mode""{
    "ame"""i"thon","
    "ersion""3
   },
   "ile_extension"""."","
   "imetype"""t"t/x-python","
   "ame"""p"hon","
   "bconvert_exporter"""p"hon","
   "ygments_lexer"""i"thon3","
   "ersion"""3"1.5""
  }
 },
 "bformat""4,
 "bformat_minor""2
}
