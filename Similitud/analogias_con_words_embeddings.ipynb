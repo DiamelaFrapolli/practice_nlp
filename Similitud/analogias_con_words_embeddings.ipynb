{
 "cells": [
  {
   "cell_type": "code",
   "execution_count": 1,
   "metadata": {},
   "outputs": [],
   "source": [
    "import gensim"
   ]
  },
  {
   "cell_type": "code",
   "execution_count": 2,
   "metadata": {},
   "outputs": [],
   "source": [
    "#traemos a los datos en una variable llamada vectores, a través de la librería\n",
    "#gensim, en la que traemos los modelos y los cargamos en vectores, en un formato\n",
    "#que se llama word2vec\n",
    "\n",
    "vectores = gensim.models.KeyedVectors.load_word2vec_format('SBW-vectors-300-min5.txt')"
   ]
  },
  {
   "cell_type": "code",
   "execution_count": 3,
   "metadata": {},
   "outputs": [],
   "source": [
    "#Definimos función \"analogia\" a la que entregamos 3 vectores como parámetros\n",
    "#los vectores son palabras, y la función nos devolverá un vector 4 (otra palabra)\n",
    "#en base a las primeras tres que le entregamos:\n",
    "\n",
    "'''\n",
    "Ej: \n",
    "v1 = \"hombre\"\n",
    "v2 = \"rey\"\n",
    "v3 = \"mujer\" \n",
    "\n",
    "output -> v4 = \"reina\" \n",
    "'''\n",
    "\n",
    "def analogia(v1, v2, v3):\n",
    "    similitud = vectores.most_similar(positive=[v1, v3], negative=[v2])\n",
    "    print(f\"{v1} es a {v2} como {similitud[0][0]} es a {v3}\")\n",
    "\n",
    "#ponemos similitud[0][0] porque similitud es una matriz generada por la función\n",
    "#most_similar de gensim, entonces aquel elemento que se encuentre en fila 0 \n",
    "#y columna 0 es aquel con mayor similitud"
   ]
  },
  {
   "cell_type": "code",
   "execution_count": 4,
   "metadata": {},
   "outputs": [
    {
     "name": "stdout",
     "output_type": "stream",
     "text": [
      "rey es a hombre como reina es a mujer\n"
     ]
    }
   ],
   "source": [
    "analogia('rey', 'hombre', 'mujer')"
   ]
  },
  {
   "cell_type": "code",
   "execution_count": 6,
   "metadata": {},
   "outputs": [
    {
     "name": "stdout",
     "output_type": "stream",
     "text": [
      "Alemania es a alemán como España es a español\n"
     ]
    }
   ],
   "source": [
    "analogia('Alemania','alemán','español')"
   ]
  },
  {
   "cell_type": "code",
   "execution_count": 7,
   "metadata": {},
   "outputs": [
    {
     "name": "stdout",
     "output_type": "stream",
     "text": [
      "vaca es a leche como gallina es a huevo\n"
     ]
    }
   ],
   "source": [
    "analogia('vaca','leche','huevo')"
   ]
  },
  {
   "cell_type": "code",
   "execution_count": 9,
   "metadata": {},
   "outputs": [
    {
     "name": "stdout",
     "output_type": "stream",
     "text": [
      "carne es a carnívoro como verduras es a vegetal\n"
     ]
    }
   ],
   "source": [
    "#No es infalible, también da outputs equivocados\n",
    "\n",
    "analogia('carne', 'carnívoro','vegetal')\n",
    "\n",
    "#output: carne es a carnívoro como verduras es a vegetal"
   ]
  },
  {
   "cell_type": "code",
   "execution_count": 14,
   "metadata": {},
   "outputs": [],
   "source": [
    "#Dada una palabra, debería dar los vecinos \"más cercanos\" a esa palabra\n",
    "\n",
    "def cercanos(palabra):\n",
    "    vecinos = vectores.most_similar(positive=[palabra])\n",
    "    print(f\"Palabras más similares a {palabra}\")\n",
    "    for word, score in vecinos:\n",
    "        print(\"\\t%s\" % word)"
   ]
  },
  {
   "cell_type": "code",
   "execution_count": 15,
   "metadata": {},
   "outputs": [
    {
     "name": "stdout",
     "output_type": "stream",
     "text": [
      "Palabras más similares a rey\n",
      "\tmonarca\n",
      "\treyes\n",
      "\treino\n",
      "\tpríncipe\n",
      "\treina\n",
      "\tHarthacnut\n",
      "\tRagnald\n",
      "\tSverkersson\n",
      "\tregente\n",
      "\tHardeknut\n"
     ]
    }
   ],
   "source": [
    "cercanos(\"rey\")"
   ]
  },
  {
   "cell_type": "code",
   "execution_count": 16,
   "metadata": {},
   "outputs": [
    {
     "name": "stdout",
     "output_type": "stream",
     "text": [
      "Palabras más similares a Chile\n",
      "\tchileno\n",
      "\tPerú\n",
      "\tArgentina\n",
      "\tchilena\n",
      "\tValparaíso\n",
      "\tCoquimbo\n",
      "\tBolivia\n",
      "\tEcuador\n",
      "\tAntofagasta\n",
      "\tchilenos\n",
      "Palabras más similares a chile\n",
      "\ttomate\n",
      "\tjalapeño\n",
      "\tchiles\n",
      "\tají\n",
      "\tjitomate\n",
      "\tpiquín\n",
      "\tcilantro\n",
      "\taguacate\n",
      "\tcebolla\n",
      "\tfrijol\n"
     ]
    }
   ],
   "source": [
    "cercanos(\"Chile\")\n",
    "cercanos(\"chile\")"
   ]
  }
 ],
 "metadata": {
  "kernelspec": {
   "display_name": "base",
   "language": "python",
   "name": "python3"
  },
  "language_info": {
   "codemirror_mode": {
    "name": "ipython",
    "version": 3
   },
   "file_extension": ".py",
   "mimetype": "text/x-python",
   "name": "python",
   "nbconvert_exporter": "python",
   "pygments_lexer": "ipython3",
   "version": "3.11.5"
  }
 },
 "nbformat": 4,
 "nbformat_minor": 2
}
