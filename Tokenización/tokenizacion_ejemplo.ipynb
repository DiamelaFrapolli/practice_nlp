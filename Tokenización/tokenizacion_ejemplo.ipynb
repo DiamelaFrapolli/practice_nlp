{
 "cells": [
  {
   "cell_type": "code",
   "execution_count": null,
   "metadata": {},
   "outputs": [],
   "source": [
    "import pandas as pd"
   ]
  },
  {
   "cell_type": "code",
   "execution_count": null,
   "metadata": {},
   "outputs": [],
   "source": [
    "df = pd.read_csv('df_total.csv', encoding= 'UTF-8')"
   ]
  },
  {
   "cell_type": "code",
   "execution_count": null,
   "metadata": {},
   "outputs": [],
   "source": [
    "#separamos los datos en variables de entrada y etiquetas:\n",
    "\n",
    "x = df['news']\n",
    "y = df['Type']"
   ]
  },
  {
   "cell_type": "code",
   "execution_count": null,
   "metadata": {},
   "outputs": [],
   "source": [
    "print(df['Type'].value_counts())"
   ]
  },
  {
   "cell_type": "code",
   "execution_count": null,
   "metadata": {},
   "outputs": [],
   "source": [
    "#esta librería permite dividir la base de datos en dos conjuntos:\n",
    "#uno de entrenamiento y otro de prueba\n",
    "\n",
    "from sklearn.model_selection import train_test_split"
   ]
  },
  {
   "cell_type": "code",
   "execution_count": null,
   "metadata": {},
   "outputs": [],
   "source": [
    "#Creamos x e y de entrenamiento y prueba\n",
    "#El tamaño de los datos test va a ser el 20% de los datos, \n",
    "#y lo entrenamos con el 80\n",
    "\n",
    "x_train, x_test, y_train, y_test = train_test_split(x, y, test_size=0.2)"
   ]
  },
  {
   "cell_type": "code",
   "execution_count": null,
   "metadata": {},
   "outputs": [],
   "source": [
    "x_train"
   ]
  },
  {
   "cell_type": "code",
   "execution_count": null,
   "metadata": {},
   "outputs": [],
   "source": [
    "x_test"
   ]
  },
  {
   "cell_type": "code",
   "execution_count": null,
   "metadata": {},
   "outputs": [],
   "source": [
    "from sklearn.feature_extraction.text import CountVectorizer"
   ]
  },
  {
   "cell_type": "code",
   "execution_count": null,
   "metadata": {},
   "outputs": [],
   "source": [
    "#Vectorizamos los datos: \n",
    "\n",
    "vectorizer = CountVectorizer()\n",
    "x_train_vectorizado = vectorizer.fit_transform(x_train)\n",
    "x_test_vectorizado = vectorizer.transform(x_test)"
   ]
  },
  {
   "cell_type": "code",
   "execution_count": null,
   "metadata": {},
   "outputs": [],
   "source": [
    "x_train_vectorizado\n",
    "\n",
    "\"\"\"\n",
    "<973x26595 sparse matrix of type '<class 'numpy.int64'>'\n",
    "\twith 233024 stored elements in Compressed Sparse Row format>\n",
    "\"\"\"\n",
    "\n",
    "#Mantuvo las 973 filas (cantidad de noticias), \n",
    "#pero ahora el vector tiene 26595 columnas\n",
    "#porque había esa cant de palabras diferentes"
   ]
  },
  {
   "cell_type": "code",
   "execution_count": null,
   "metadata": {},
   "outputs": [],
   "source": [
    "from sklearn.naive_bayes import MultinomialNB\n",
    "from sklearn import metrics"
   ]
  },
  {
   "cell_type": "code",
   "execution_count": null,
   "metadata": {},
   "outputs": [],
   "source": [
    "#Ahora vamos a meter los datos de entrenamiento en el modelo multinomial\n",
    "\n",
    "model = MultinomialNB()\n",
    "\n",
    "#ajustamos el modelo con \n",
    "#los x de entrenamiento vectorizados \n",
    "#(que contienen las noticias)\n",
    "#y con el y de entrenamiento, \n",
    "#que contienen las categorías que les corresponden\n",
    "model.fit(x_train_vectorizado, y_train)\n",
    "\n",
    "#Probamos el modelo:\n",
    "\n",
    "#Creamos un conjunto de datos y (categorías) predecidas para el conjunto de\n",
    "#datos x de prueba vectorizados que habíamos reservado\n",
    "y_pred = model.predict(x_test_vectorizado)\n",
    "\n",
    "#Con metrics comparamos y_pred con y_test\n",
    "# y_pred es lo que produjo nuestro modelo\n",
    "# y_test es el conjunto de datos reales que habíamos guardado, y que corresponden\n",
    "# a x_test_vectorizado\n",
    "\n",
    "print(metrics.accuracy_score(y_test, y_pred))"
   ]
  },
  {
   "cell_type": "code",
   "execution_count": null,
   "metadata": {},
   "outputs": [],
   "source": [
    "# DIFERENCIA CON STEMMING"
   ]
  },
  {
   "cell_type": "code",
   "execution_count": null,
   "metadata": {},
   "outputs": [],
   "source": [
    "import nltk\n",
    "from nltk.tokenize import word_tokenize\n",
    "from nltk.corpus import stopwords\n",
    "from nltk.stem import SnowballStemmer"
   ]
  },
  {
   "cell_type": "code",
   "execution_count": null,
   "metadata": {},
   "outputs": [],
   "source": [
    "nltk.download('punkt')\n",
    "nltk.download('stopwords')"
   ]
  },
  {
   "cell_type": "code",
   "execution_count": null,
   "metadata": {},
   "outputs": [],
   "source": [
    "stemmer = SnowballStemmer('spanish')"
   ]
  },
  {
   "cell_type": "code",
   "execution_count": null,
   "metadata": {},
   "outputs": [],
   "source": [
    "def tokenize_and_stem(text):\n",
    "    tokens = word_tokenize(text.lower())\n",
    "    stems = [stemmer.stem(token) for token in tokens if token.isalpha()]\n",
    "    return ' '.join(stems)"
   ]
  },
  {
   "cell_type": "code",
   "execution_count": null,
   "metadata": {},
   "outputs": [],
   "source": [
    "df[\"news_stemmer\"] = df[\"news\"].apply(tokenize_and_stem)"
   ]
  },
  {
   "cell_type": "code",
   "execution_count": null,
   "metadata": {},
   "outputs": [],
   "source": [
    "#Ahora hacemos básicamente lo mismo de arriba pero con\n",
    "#el dato stemmeado para reducir el nro de dimensiones\n",
    "\n",
    "x = df[\"news_stemmer\"]\n",
    "y = df[\"Type\"]\n",
    "\n",
    "x_train_2, x_test_2, y_train_2, y_test_2 = train_test_split(x, y, test_size=0.2)\n",
    "\n",
    "vectorizer = CountVectorizer() #--> sirve para vectorizar los datos\n",
    "\n",
    "x_train_2_vectorizado = vectorizer.fit_transform(x_train_2)\n",
    "x_test_2_vectorizado = vectorizer.transform(x_test_2)\n",
    "\n",
    "#definimos el modelo\n",
    "modelo = MultinomialNB()\n",
    "\n",
    "#ajustamos el modelo con los datos:\n",
    "modelo.fit(x_train_2_vectorizado, y_train_2)\n",
    "\n",
    "#medimos el rendimiento del modelo:\n",
    "y_pred_2 = modelo.predict(x_test_2_vectorizado)\n",
    "\n",
    "print(metrics.accuracy_score(y_test_2, y_pred_2))"
   ]
  },
  {
   "cell_type": "code",
   "execution_count": null,
   "metadata": {},
   "outputs": [],
   "source": [
    "# LEMATIZACION"
   ]
  },
  {
   "cell_type": "code",
   "execution_count": null,
   "metadata": {},
   "outputs": [],
   "source": [
    "import spacy\n",
    "\n",
    "nlp = spacy.load('es_core_news_sm')"
   ]
  },
  {
   "cell_type": "code",
   "execution_count": null,
   "metadata": {},
   "outputs": [],
   "source": [
    "def lemmatize_text(text):\n",
    "    doc = nlp(text.lower())\n",
    "    lemmas = [token.lemma_ for token in doc if token.is_alpha]\n",
    "    return ' '.join(lemmas)"
   ]
  },
  {
   "cell_type": "code",
   "execution_count": null,
   "metadata": {},
   "outputs": [],
   "source": [
    "df['news_lemma'] = df['news'].apply(lemmatize_text)"
   ]
  },
  {
   "cell_type": "code",
   "execution_count": null,
   "metadata": {},
   "outputs": [],
   "source": [
    "#Ahora hacemos básicamente lo mismo de arriba pero con\n",
    "#el dato lematizado para reducir el nro de dimensiones\n",
    "\n",
    "x = df[\"news_lemma\"]\n",
    "y = df[\"Type\"]\n",
    "\n",
    "x_train_3, x_test_3, y_train_3, y_test_3 = train_test_split(x, y, test_size=0.2)\n",
    "\n",
    "vectorizer = CountVectorizer() #--> sirve para vectorizar los datos\n",
    "\n",
    "x_train_3_vectorizado = vectorizer.fit_transform(x_train_3)\n",
    "x_test_3_vectorizado = vectorizer.transform(x_test_3)\n",
    "\n",
    "#definimos el modelo\n",
    "modelo = MultinomialNB()\n",
    "\n",
    "#ajustamos el modelo con los datos:\n",
    "modelo.fit(x_train_3_vectorizado, y_train_3)\n",
    "\n",
    "#medimos el rendimiento del modelo:\n",
    "y_pred_3 = modelo.predict(x_test_3_vectorizado)\n",
    "\n",
    "print(metrics.accuracy_score(y_test_3, y_pred_3))"
   ]
  }
 ],
 "metadata": {
  "kernelspec": {
   "display_name": "base",
   "language": "python",
   "name": "python3"
  },
  "language_info": {
   "codemirror_mode": {
    "name": "ipython",
    "version": 3
   },
   "file_extension": ".py",
   "mimetype": "text/x-python",
   "name": "python",
   "nbconvert_exporter": "python",
   "pygments_lexer": "ipython3",
   "version": "3.12.2"
  }
 },
 "nbformat": 4,
 "nbformat_minor": 2
}
