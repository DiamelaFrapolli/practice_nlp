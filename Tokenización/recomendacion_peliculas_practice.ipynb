{
 "cells": [
  {
   "cell_type": "code",
   "execution_count": 1,
   "metadata": {},
   "outputs": [],
   "source": [
    "import pandas as pd"
   ]
  },
  {
   "cell_type": "code",
   "execution_count": 9,
   "metadata": {},
   "outputs": [],
   "source": [
    "df = pd.read_csv('movie_metadata.csv')"
   ]
  },
  {
   "cell_type": "code",
   "execution_count": 10,
   "metadata": {},
   "outputs": [],
   "source": [
    "df.insert(0, \"ID\", range(1, len(df) + 1))"
   ]
  },
  {
   "cell_type": "code",
   "execution_count": 11,
   "metadata": {},
   "outputs": [
    {
     "name": "stdout",
     "output_type": "stream",
     "text": [
      "   ID  color      director_name  num_critic_for_reviews  duration  \\\n",
      "0   1  Color      James Cameron                   723.0     178.0   \n",
      "1   2  Color     Gore Verbinski                   302.0     169.0   \n",
      "2   3  Color         Sam Mendes                   602.0     148.0   \n",
      "3   4  Color  Christopher Nolan                   813.0     164.0   \n",
      "4   5    NaN        Doug Walker                     NaN       NaN   \n",
      "\n",
      "   director_facebook_likes  actor_3_facebook_likes      actor_2_name  \\\n",
      "0                      0.0                   855.0  Joel David Moore   \n",
      "1                    563.0                  1000.0     Orlando Bloom   \n",
      "2                      0.0                   161.0      Rory Kinnear   \n",
      "3                  22000.0                 23000.0    Christian Bale   \n",
      "4                    131.0                     NaN        Rob Walker   \n",
      "\n",
      "   actor_1_facebook_likes        gross  ... num_user_for_reviews language  \\\n",
      "0                  1000.0  760505847.0  ...               3054.0  English   \n",
      "1                 40000.0  309404152.0  ...               1238.0  English   \n",
      "2                 11000.0  200074175.0  ...                994.0  English   \n",
      "3                 27000.0  448130642.0  ...               2701.0  English   \n",
      "4                   131.0          NaN  ...                  NaN      NaN   \n",
      "\n",
      "  country  content_rating       budget title_year  actor_2_facebook_likes  \\\n",
      "0     USA           PG-13  237000000.0     2009.0                   936.0   \n",
      "1     USA           PG-13  300000000.0     2007.0                  5000.0   \n",
      "2      UK           PG-13  245000000.0     2015.0                   393.0   \n",
      "3     USA           PG-13  250000000.0     2012.0                 23000.0   \n",
      "4     NaN             NaN          NaN        NaN                    12.0   \n",
      "\n",
      "  imdb_score aspect_ratio  movie_facebook_likes  \n",
      "0        7.9         1.78                 33000  \n",
      "1        7.1         2.35                     0  \n",
      "2        6.8         2.35                 85000  \n",
      "3        8.5         2.35                164000  \n",
      "4        7.1          NaN                     0  \n",
      "\n",
      "[5 rows x 29 columns]\n"
     ]
    }
   ],
   "source": [
    "print(df.head())"
   ]
  },
  {
   "cell_type": "code",
   "execution_count": 12,
   "metadata": {},
   "outputs": [],
   "source": [
    "df = df[['ID', 'movie_title', 'genres', 'plot_keywords'] + \n",
    "        [col for col in df.columns if col not in \n",
    "         ['ID', 'movie_title', 'genres', 'plot_keywords']]]"
   ]
  },
  {
   "cell_type": "code",
   "execution_count": 13,
   "metadata": {},
   "outputs": [
    {
     "name": "stdout",
     "output_type": "stream",
     "text": [
      "   ID                                        movie_title  \\\n",
      "0   1                                            Avatar    \n",
      "1   2          Pirates of the Caribbean: At World's End    \n",
      "2   3                                           Spectre    \n",
      "3   4                             The Dark Knight Rises    \n",
      "4   5  Star Wars: Episode VII - The Force Awakens    ...   \n",
      "\n",
      "                            genres  \\\n",
      "0  Action|Adventure|Fantasy|Sci-Fi   \n",
      "1         Action|Adventure|Fantasy   \n",
      "2        Action|Adventure|Thriller   \n",
      "3                  Action|Thriller   \n",
      "4                      Documentary   \n",
      "\n",
      "                                       plot_keywords  color  \\\n",
      "0             avatar|future|marine|native|paraplegic  Color   \n",
      "1  goddess|marriage ceremony|marriage proposal|pi...  Color   \n",
      "2                bomb|espionage|sequel|spy|terrorist  Color   \n",
      "3  deception|imprisonment|lawlessness|police offi...  Color   \n",
      "4                                                NaN    NaN   \n",
      "\n",
      "       director_name  num_critic_for_reviews  duration  \\\n",
      "0      James Cameron                   723.0     178.0   \n",
      "1     Gore Verbinski                   302.0     169.0   \n",
      "2         Sam Mendes                   602.0     148.0   \n",
      "3  Christopher Nolan                   813.0     164.0   \n",
      "4        Doug Walker                     NaN       NaN   \n",
      "\n",
      "   director_facebook_likes  actor_3_facebook_likes  ... num_user_for_reviews  \\\n",
      "0                      0.0                   855.0  ...               3054.0   \n",
      "1                    563.0                  1000.0  ...               1238.0   \n",
      "2                      0.0                   161.0  ...                994.0   \n",
      "3                  22000.0                 23000.0  ...               2701.0   \n",
      "4                    131.0                     NaN  ...                  NaN   \n",
      "\n",
      "   language  country content_rating       budget  title_year  \\\n",
      "0   English      USA          PG-13  237000000.0      2009.0   \n",
      "1   English      USA          PG-13  300000000.0      2007.0   \n",
      "2   English       UK          PG-13  245000000.0      2015.0   \n",
      "3   English      USA          PG-13  250000000.0      2012.0   \n",
      "4       NaN      NaN            NaN          NaN         NaN   \n",
      "\n",
      "  actor_2_facebook_likes  imdb_score aspect_ratio  movie_facebook_likes  \n",
      "0                  936.0         7.9         1.78                 33000  \n",
      "1                 5000.0         7.1         2.35                     0  \n",
      "2                  393.0         6.8         2.35                 85000  \n",
      "3                23000.0         8.5         2.35                164000  \n",
      "4                   12.0         7.1          NaN                     0  \n",
      "\n",
      "[5 rows x 29 columns]\n"
     ]
    }
   ],
   "source": [
    "print(df.head())"
   ]
  },
  {
   "cell_type": "code",
   "execution_count": 14,
   "metadata": {},
   "outputs": [],
   "source": [
    "df.to_csv('movie_metadata_con_ID_y_reorganizado.csv', index=False)"
   ]
  },
  {
   "cell_type": "code",
   "execution_count": 20,
   "metadata": {},
   "outputs": [],
   "source": [
    "#Reemplazo barras verticales por espacios\n",
    "df['genres'] = df['genres'].str.replace('|', ' ')\n",
    "df['plot_keywords'] = df['plot_keywords'].str.replace('|', ' ')"
   ]
  },
  {
   "cell_type": "code",
   "execution_count": 23,
   "metadata": {},
   "outputs": [],
   "source": [
    "#Junto dos columnas\n",
    "df['texto'] = df[['genres', 'plot_keywords']].apply(lambda row: ' '.join(row.values.astype(str)), axis=1)"
   ]
  },
  {
   "cell_type": "code",
   "execution_count": 25,
   "metadata": {},
   "outputs": [],
   "source": [
    "df = df[['ID', 'movie_title', 'texto', 'genres', 'plot_keywords'] + \n",
    "        [col for col in df.columns if col not in \n",
    "         ['ID', 'movie_title', 'texto', 'genres', 'plot_keywords']]]"
   ]
  },
  {
   "cell_type": "code",
   "execution_count": 26,
   "metadata": {},
   "outputs": [],
   "source": [
    "df.to_csv('movie_metadata_con_ID_y_reorganizado.csv', index=False)"
   ]
  },
  {
   "cell_type": "code",
   "execution_count": 28,
   "metadata": {},
   "outputs": [],
   "source": [
    "#Importamos librerías sklearn:\n",
    "\n",
    "from sklearn.feature_extraction.text import TfidfVectorizer\n",
    "from sklearn.metrics.pairwise import cosine_similarity, euclidean_distances\n",
    "\n",
    "#Creamos un objeto tfidf que nos servirá para vectorizar con el método TF-IDF\n",
    "tfidf = TfidfVectorizer(max_features = 2000)\n",
    "\n",
    "'''\n",
    "El vectorizador TF-IDF se utiliza para convertir una colección de documentos \n",
    "de texto en una matriz de términos de documento, donde cada fila representa un \n",
    "documento y cada columna representa un término, mientras que los valores en la \n",
    "matriz representan la importancia de cada término en cada documento en función \n",
    "de la frecuencia de términos en el documento y en la colección completa.\n",
    "'''"
   ]
  },
  {
   "cell_type": "code",
   "execution_count": 29,
   "metadata": {},
   "outputs": [],
   "source": [
    "x = tfidf.fit_transform(df['texto'])"
   ]
  },
  {
   "cell_type": "code",
   "execution_count": 30,
   "metadata": {},
   "outputs": [],
   "source": [
    "#Generamos un mapeo de las películas:\n",
    "\n",
    "peliculas = pd.Series(df.index, index=df['movie_title'])\n",
    "peliculas.index = peliculas.index.str.strip()"
   ]
  },
  {
   "cell_type": "code",
   "execution_count": 36,
   "metadata": {},
   "outputs": [
    {
     "name": "stdout",
     "output_type": "stream",
     "text": [
      "  (0, 1349)\t0.4327039179793776\n",
      "  (0, 1245)\t0.3738571275391204\n",
      "  (0, 1356)\t0.26474173139625884\n",
      "  (0, 886)\t0.48056667678675813\n",
      "  (0, 478)\t0.46014136234826947\n",
      "  (0, 1782)\t0.3445459446502384\n",
      "  (0, 1797)\t0.1379495887811173\n",
      "  (0, 32)\t0.14997860517223982\n"
     ]
    },
    {
     "data": {
      "text/plain": [
       "array([[0., 0., 0., ..., 0., 0., 0.]])"
      ]
     },
     "execution_count": 36,
     "metadata": {},
     "output_type": "execute_result"
    }
   ],
   "source": [
    "#Ejemplo consulta:\n",
    "\n",
    "indice = peliculas['The Dark Knight Rises']\n",
    "\n",
    "consulta = x[indice]\n",
    "print(consulta)\n",
    "consulta.toarray()"
   ]
  },
  {
   "cell_type": "code",
   "execution_count": 38,
   "metadata": {},
   "outputs": [
    {
     "data": {
      "text/plain": [
       "array([[0.02767798, 0.02180518, 0.18356101, ..., 0.05069847, 0.        ,\n",
       "        0.        ]])"
      ]
     },
     "execution_count": 38,
     "metadata": {},
     "output_type": "execute_result"
    }
   ],
   "source": [
    "#similitud es un arreglo que chequea para la consulta con índice 3, la similitud\n",
    "#por a través del coseno con todos los textos guardados en x. \n",
    "#busca el índice a través de la serie \"peliculas\" que creamos antes. \n",
    "\n",
    "similitud = cosine_similarity(consulta, x)\n",
    "similitud"
   ]
  },
  {
   "cell_type": "code",
   "execution_count": 40,
   "metadata": {},
   "outputs": [
    {
     "data": {
      "text/plain": [
       "1.0000000000000002"
      ]
     },
     "execution_count": 40,
     "metadata": {},
     "output_type": "execute_result"
    }
   ],
   "source": [
    "#lo aplanamos para no tener que andar poniendo similitud[0][3]\n",
    "similitud = similitud.flatten()\n",
    "\n",
    "#vemos la similitud en 3 (que es la misma película, y da uno, \n",
    "#cosa que tiene sentido)\n",
    "similitud[3]"
   ]
  },
  {
   "cell_type": "code",
   "execution_count": 41,
   "metadata": {},
   "outputs": [],
   "source": [
    "import matplotlib.pyplot as plt"
   ]
  },
  {
   "cell_type": "code",
   "execution_count": 42,
   "metadata": {},
   "outputs": [
    {
     "data": {
      "text/plain": [
       "[<matplotlib.lines.Line2D at 0x20a4ef3c2d0>]"
      ]
     },
     "execution_count": 42,
     "metadata": {},
     "output_type": "execute_result"
    },
    {
     "data": {
      "image/png": "[encoded data removed]",
      "text/plain": [
       "<Figure size 640x480 with 1 Axes>"
      ]
     },
     "metadata": {},
     "output_type": "display_data"
    }
   ],
   "source": [
    "plt.plot(similitud)"
   ]
  },
  {
   "cell_type": "code",
   "execution_count": 46,
   "metadata": {},
   "outputs": [
    {
     "data": {
      "text/plain": [
       "array([   3, 4139, 3647, ..., 2380, 2363, 5042], dtype=int64)"
      ]
     },
     "execution_count": 46,
     "metadata": {},
     "output_type": "execute_result"
    }
   ],
   "source": [
    "#Ordenamos el arreglo similitud para verlo en orden descendente\n",
    "\n",
    "(-similitud).argsort()"
   ]
  },
  {
   "cell_type": "code",
   "execution_count": 47,
   "metadata": {},
   "outputs": [
    {
     "data": {
      "text/plain": [
       "[<matplotlib.lines.Line2D at 0x20a5020d410>]"
      ]
     },
     "execution_count": 47,
     "metadata": {},
     "output_type": "execute_result"
    },
    {
     "data": {
      "image/png": "[encoded data removed]",
      "text/plain": [
       "<Figure size 640x480 with 1 Axes>"
      ]
     },
     "metadata": {},
     "output_type": "display_data"
    }
   ],
   "source": [
    "plt.plot(similitud[(-similitud).argsort()])"
   ]
  },
  {
   "cell_type": "code",
   "execution_count": 48,
   "metadata": {},
   "outputs": [],
   "source": [
    "recomendacion = (-similitud).argsort()[1:11]"
   ]
  },
  {
   "cell_type": "code",
   "execution_count": 49,
   "metadata": {},
   "outputs": [
    {
     "data": {
      "text/plain": [
       "4139            AWOL-72 \n",
       "3647           Deadfall \n",
       "1034            The One \n",
       "387     The Devil's Own \n",
       "3426            Swelter \n",
       "3841     Police Academy \n",
       "2489      Let's Be Cops \n",
       "1402    Lethal Weapon 3 \n",
       "2558           Hot Fuzz \n",
       "3678     Mambo Italiano \n",
       "Name: movie_title, dtype: object"
      ]
     },
     "execution_count": 49,
     "metadata": {},
     "output_type": "execute_result"
    }
   ],
   "source": [
    "df['movie_title'].iloc[recomendacion]"
   ]
  }
 ],
 "metadata": {
  "kernelspec": {
   "display_name": "base",
   "language": "python",
   "name": "python3"
  },
  "language_info": {
   "codemirror_mode": {
    "name": "ipython",
    "version": 3
   },
   "file_extension": ".py",
   "mimetype": "text/x-python",
   "name": "python",
   "nbconvert_exporter": "python",
   "pygments_lexer": "ipython3",
   "version": "3.11.5"
  }
 },
 "nbformat": 4,
 "nbformat_minor": 2
}
