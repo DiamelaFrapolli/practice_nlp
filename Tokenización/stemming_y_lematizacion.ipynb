{
 "cells": [
  {
   "cell_type": "code",
   "execution_count": null,
   "metadata": {},
   "outputs": [],
   "source": [
    "\n",
    "#Stemming: técnica más simple que elimina los sufijos de las palabras\n",
    "\n",
    "#Lematización: es una técnica más avanzada que usa las reglas del lenguaje\n",
    "#para obtener la base o raíz de una palabra\n",
    "\n",
    "\n",
    "#--------------------------------------------------------------------------\n"
   ]
  },
  {
   "cell_type": "code",
   "execution_count": 1,
   "metadata": {},
   "outputs": [],
   "source": [
    "import nltk\n",
    "from nltk.stem import SnowballStemmer\n",
    "import spacy "
   ]
  },
  {
   "cell_type": "code",
   "execution_count": 2,
   "metadata": {},
   "outputs": [],
   "source": [
    "#crear el stemmer en español:\n",
    "\n",
    "stemmer = SnowballStemmer('spanish')"
   ]
  },
  {
   "cell_type": "code",
   "execution_count": 6,
   "metadata": {},
   "outputs": [
    {
     "name": "stdout",
     "output_type": "stream",
     "text": [
      "camin\n",
      "camin\n",
      "camin\n"
     ]
    }
   ],
   "source": [
    "#Probarlo en la palabra \"caminando\"\n",
    "\n",
    "print(stemmer.stem('caminando'))\n",
    "print(stemmer.stem('caminar'))\n",
    "print(stemmer.stem('caminó'))"
   ]
  },
  {
   "cell_type": "code",
   "execution_count": null,
   "metadata": {},
   "outputs": [],
   "source": [
    "#LEMATIZACION: convierte las palabras a su versión base"
   ]
  },
  {
   "cell_type": "code",
   "execution_count": 5,
   "metadata": {},
   "outputs": [
    {
     "name": "stdout",
     "output_type": "stream",
     "text": [
      "caminar -> caminar\n",
      "caminando -> caminar\n",
      "caminó -> caminar\n"
     ]
    }
   ],
   "source": [
    "#cargamos el modelo\n",
    "nlp = spacy.load('es_core_news_sm')\n",
    "\n",
    "#creamos un documento\n",
    "doc = nlp(\"caminar caminando caminó\")\n",
    "\n",
    "#imprimir el texto y el lema de cada token\n",
    "for token in doc:\n",
    "    print(token.text, \"->\", token.lemma_)"
   ]
  }
 ],
 "metadata": {
  "kernelspec": {
   "display_name": "base",
   "language": "python",
   "name": "python3"
  },
  "language_info": {
   "codemirror_mode": {
    "name": "ipython",
    "version": 3
   },
   "file_extension": ".py",
   "mimetype": "text/x-python",
   "name": "python",
   "nbconvert_exporter": "python",
   "pygments_lexer": "ipython3",
   "version": "3.11.5"
  }
 },
 "nbformat": 4,
 "nbformat_minor": 2
}
