{
 "cells": [
  {
   "cell_type": "code",
   "execution_count": 56,
   "metadata": {},
   "outputs": [],
   "source": [
    "import pandas as pd\n",
    "import numpy as np\n",
    "import nltk\n",
    "import textwrap\n",
    "from nltk.corpus import stopwords\n",
    "from nltk import word_tokenize\n",
    "from sklearn.feature_extraction.text import TfidfVectorizer\n",
    "#Para medir la similitud de las oraciones\n",
    "from sklearn.metrics.pairwise import cosine_similarity"
   ]
  },
  {
   "cell_type": "code",
   "execution_count": 57,
   "metadata": {},
   "outputs": [],
   "source": [
    "df = pd.read_csv('df_total.csv')"
   ]
  },
  {
   "cell_type": "code",
   "execution_count": 58,
   "metadata": {},
   "outputs": [],
   "source": [
    "doc = df['news'].sample()"
   ]
  },
  {
   "cell_type": "code",
   "execution_count": 59,
   "metadata": {},
   "outputs": [
    {
     "name": "stdout",
     "output_type": "stream",
     "text": [
      "Mucho ha cambiado para el mercado de la televisión en los dos últimos años. A fines de 2020 la alianza Mega  Discovery atravesaba por su mejor momento.Por esos días Guillermo Delfino gerente general de Discovery Networks en una entrevista en Diario Financiero celebraba el rating obtenido por la estación que se mantuvo como líder por casi seis años y adelantaba que saldrían a producir en conjunto en 2021 para reforzar las sinergias. Uno de los focos agregaba sería compartir contenidos con la señal de Discovery que llegaría a Chile al año siguiente.Pero poco de eso ocurrió. La alianza siguió dando frutos en lo comercial se continuó con el modelo de venta de publicidad para Mega y los canales de cable de Discovery. Pero de producciones en conjunto y de la llegada de la señal de streaming nunca más se supo.El tiempo pasó y comenzaron los movimientos en la industria. El 8 de abril pasado se cerró la fusión de dos gigantes y se creó Warner Bros Discovery un nuevo imperio de la TV pero esta vez enfocado en el streaming hoy por hoy el gran rey en el planeta de los contenidos.Ahora los ojos están puestos en qué pasará con la antigua alianza MegaDiscovery que prometía convertirse en plataforma desde Chile al mundo. La compañía global de medios estadounidense entró a la propiedad de Mega controlada por el holding Bethia liderado por Carlos Heller en 2016. En esa oportunidad compró el 275 de las acciones de la estación en  US 53 millones según aparece en sus registros. De acuerdo al contrato Discovery tenía la opción de aumentar su participación hasta el 30 alternativa que nunca ejerció. Pero existía otra cláusula que se mantuvo en secreto hasta ahora a los tres años Discovery podía activar un put una opción de venta según la cual Bethia estaba obligada a recomprar su participación.En 2019 la compañía internacional decidió no ejercerlo y quedarse en la propiedad y alargar el periodo por dos años más. La opción vencía a fines de 2021 pero justo empezaron las tratativas para la fusión con Warner Bros. y los socios negociaron una extensión corta de la opción de venta que ahora sí vence el 31 de diciembre de este año.Streaming cable y liquidezLas negociaciones lideradas por el gerente general corporativo de Bethia Ramiro Sánchez y el  presidente y director gerente para América Latina y el mercado hispano de los Estados Unidos de Warner Bros. Discovery Fernando Medin ya comenzaron. Se trata de acuerdos confidenciales. Por lo mismo consultados por este medio ninguno de los dos quiso referirse al tema.Sin embargo según fuentes ligadas a la operación la situación no es nada de fácil Bethia no tiene hoy los cerca de US 60 millones que debe pagarle al nuevo conglomerado considerando el valor al cual entró Discovery ajustado por UF y tipo de cambio. Y además el valor del canal hoy es menor que los US 200 millones en que se valorizó a mediados de 2016 cuando el holding de Heller vendió el 275.Y aunque siempre existe la posibilidad de que los ejecutivos de Warner Bros. Discovery decidan volver a aplazar su opción de venta hoy tienen razones de sobra para decidir irse del canal. Por una parte tras su fusión con Warner Bros. Discovery cambió su foco hacia otro modelo de negocio y se empezó a alejar del cable. El cable está derrumbado como plataforma las audiencias migraron el streaming es más barato y de mejor calidad y el cable como negocio vale menos de la mitad en todo el mundo y la mayoría de los canales son de mala calidad. Por lo mismo las razones de Discovery para apalancar su negocio de cable a través de Mega están súper debilitadas y es mucho menos útil optar por un canal de TV en un país cuando ese negocio está débil y estás migrando a otro foco indica un conocedor de la industria.Pero otra de las razones es que el nuevo gigante de la industria del entretenimiento necesita liquidez. Para quedarse con Warner Bros. y lograr la fusión Discovery desembolsó cerca de US 50 mil millones principalmente financiados mediante deuda según explica un ejecutivo del sector. Por lo mismo por muy marginales que puedan ser los alrededor de US 60 millones que pagaría Bethia necesitan liquidar el máximo de activos posibles para que los intereses no se los coman.En ese contexto dice Mega es un activo mucho más prescindible que antes.Bethia en apurosAunque quedan cuatro meses para que se cumpla el plazo del put la situación por la que atraviesa Bethia en estos momentos es compleja. El holding de Liliana Solari ha tenido años de malos resultados producto de decisiones de inversión no acertadas.Por un lado aún no logran deshacerse del 46 que tienen en la Isapre Colmena que está a la venta desde hace más de un año y cuya operación para traspasar sus clientes a Nueva Masvida fue rechazada por la FNE y actualmente espera la respuesta del Tribunal de Defensa de la Libre Competencia TDLC. Además entre 2020 y 2021 se deshizo de su paquete accionario en Latam Airlines. El holding entró en 2019 a la aerolínea en la que invirtió cerca de  500 millones. Pero como durante la pandemia la firma aérea se acogiera al capítulo 11 de la Ley de Quiebras de Estados Unidos decidió salir de la operación.Falabella su gran negocio donde poseen el 878 de la propiedad hoy vale menos de un tercio de lo que costaba a principios de 2018 cuando sus acciones alcanzaron su mayor valor sobre los  6.500. En Aguas Andinas en tanto donde alcanzaron a tener el 23 hoy tienen menos del 1 de la propiedad. La empresa de transporte Sotraser y la lechera Ancali son otros de los negocios en los que participan actualmente pero sus datos no son públicos.Dada la situación actual del holding conocedores de las tratativas dicen que una posibilidad es que Bethia negocie acciones a cambio de los US 60 millones que debe pagar al conglomerado internacional. Una solución que de todas maneras es difícil de concretar hoy ese monto calculan en la industria equivaldría a cerca del 80 del valor de la estación.\n"
     ]
    }
   ],
   "source": [
    "print(doc.iloc[0])"
   ]
  },
  {
   "cell_type": "code",
   "execution_count": 60,
   "metadata": {},
   "outputs": [],
   "source": [
    "doc2 = textwrap.fill(doc.iloc[0], replace_whitespace=False, fix_sentence_endings=True)"
   ]
  },
  {
   "cell_type": "code",
   "execution_count": 61,
   "metadata": {},
   "outputs": [],
   "source": [
    "lineas = doc2.split('.')"
   ]
  },
  {
   "cell_type": "code",
   "execution_count": 62,
   "metadata": {},
   "outputs": [],
   "source": [
    "lineas = [item for item in lineas if item.strip()]"
   ]
  },
  {
   "cell_type": "code",
   "execution_count": 63,
   "metadata": {},
   "outputs": [
    {
     "data": {
      "text/plain": [
       "46"
      ]
     },
     "execution_count": 63,
     "metadata": {},
     "output_type": "execute_result"
    }
   ],
   "source": [
    "len(lineas)"
   ]
  },
  {
   "cell_type": "code",
   "execution_count": 64,
   "metadata": {},
   "outputs": [],
   "source": [
    "#Vectorizamos con tfidf\n",
    "tokenizar = TfidfVectorizer(\n",
    "    stop_words=stopwords.words('spanish'),\n",
    "    norm = 'l1', #Con esto estamos diciendo que el valor máximo de cada una de las líneas no puede sumar más de uno (van de 0 a 1)\n",
    ")"
   ]
  },
  {
   "cell_type": "code",
   "execution_count": 65,
   "metadata": {},
   "outputs": [],
   "source": [
    "#Construimos la matriz con las lineas\n",
    "x = tokenizar.fit_transform(lineas)"
   ]
  },
  {
   "cell_type": "code",
   "execution_count": 66,
   "metadata": {},
   "outputs": [
    {
     "data": {
      "text/plain": [
       "<46x367 sparse matrix of type '<class 'numpy.float64'>'\n",
       "\twith 535 stored elements in Compressed Sparse Row format>"
      ]
     },
     "execution_count": 66,
     "metadata": {},
     "output_type": "execute_result"
    }
   ],
   "source": [
    "x"
   ]
  },
  {
   "cell_type": "code",
   "execution_count": 67,
   "metadata": {},
   "outputs": [],
   "source": [
    "#Matriz de similitud\n",
    "similitud = cosine_similarity(x)"
   ]
  },
  {
   "cell_type": "code",
   "execution_count": 68,
   "metadata": {},
   "outputs": [
    {
     "data": {
      "text/plain": [
       "(46, 46)"
      ]
     },
     "execution_count": 68,
     "metadata": {},
     "output_type": "execute_result"
    }
   ],
   "source": [
    "similitud.shape"
   ]
  },
  {
   "cell_type": "code",
   "execution_count": 69,
   "metadata": {},
   "outputs": [],
   "source": [
    "#Normalizar\n",
    "similitud = similitud/similitud.sum(axis=1, keepdims=True)"
   ]
  },
  {
   "cell_type": "code",
   "execution_count": 70,
   "metadata": {},
   "outputs": [
    {
     "data": {
      "text/plain": [
       "array([[0.61820755, 0.        , 0.03100309, ..., 0.        , 0.        ,\n",
       "        0.        ],\n",
       "       [0.        , 0.45128014, 0.01079313, ..., 0.        , 0.        ,\n",
       "        0.        ],\n",
       "       [0.02776436, 0.01324092, 0.55362676, ..., 0.        , 0.        ,\n",
       "        0.02294118],\n",
       "       ...,\n",
       "       [0.        , 0.        , 0.        , ..., 0.95033354, 0.        ,\n",
       "        0.        ],\n",
       "       [0.        , 0.        , 0.        , ..., 0.        , 0.40713276,\n",
       "        0.        ],\n",
       "       [0.        , 0.        , 0.02229842, ..., 0.        , 0.        ,\n",
       "        0.53811535]])"
      ]
     },
     "execution_count": 70,
     "metadata": {},
     "output_type": "execute_result"
    }
   ],
   "source": [
    "similitud"
   ]
  },
  {
   "cell_type": "code",
   "execution_count": 71,
   "metadata": {},
   "outputs": [
    {
     "data": {
      "text/plain": [
       "1.0"
      ]
     },
     "execution_count": 71,
     "metadata": {},
     "output_type": "execute_result"
    }
   ],
   "source": [
    "similitud[0].sum()"
   ]
  },
  {
   "cell_type": "code",
   "execution_count": 72,
   "metadata": {},
   "outputs": [],
   "source": [
    "#Suavizado y regularización\n",
    "#Matriz de transición uniforme\n",
    "u = np.ones_like(similitud)/len(similitud)"
   ]
  },
  {
   "cell_type": "code",
   "execution_count": 73,
   "metadata": {},
   "outputs": [
    {
     "data": {
      "text/plain": [
       "array([[0.02173913, 0.02173913, 0.02173913, ..., 0.02173913, 0.02173913,\n",
       "        0.02173913],\n",
       "       [0.02173913, 0.02173913, 0.02173913, ..., 0.02173913, 0.02173913,\n",
       "        0.02173913],\n",
       "       [0.02173913, 0.02173913, 0.02173913, ..., 0.02173913, 0.02173913,\n",
       "        0.02173913],\n",
       "       ...,\n",
       "       [0.02173913, 0.02173913, 0.02173913, ..., 0.02173913, 0.02173913,\n",
       "        0.02173913],\n",
       "       [0.02173913, 0.02173913, 0.02173913, ..., 0.02173913, 0.02173913,\n",
       "        0.02173913],\n",
       "       [0.02173913, 0.02173913, 0.02173913, ..., 0.02173913, 0.02173913,\n",
       "        0.02173913]])"
      ]
     },
     "execution_count": 73,
     "metadata": {},
     "output_type": "execute_result"
    }
   ],
   "source": [
    "u"
   ]
  },
  {
   "cell_type": "code",
   "execution_count": 74,
   "metadata": {},
   "outputs": [],
   "source": [
    "#matriz de similitud suavizada\n",
    "factor = 0.15\n",
    "similitud_suavizada = (1 - factor) * similitud + factor * u"
   ]
  },
  {
   "cell_type": "code",
   "execution_count": 75,
   "metadata": {},
   "outputs": [
    {
     "name": "stdout",
     "output_type": "stream",
     "text": [
      "False\n",
      "False\n"
     ]
    }
   ],
   "source": [
    "# Verifica si hay NaNs o Infs en la matriz suavizada\n",
    "print(np.isnan(similitud_suavizada).any())  # Esto debería devolver False\n",
    "print(np.isinf(similitud_suavizada).any())  # Esto debería devolver False"
   ]
  },
  {
   "cell_type": "code",
   "execution_count": 76,
   "metadata": {},
   "outputs": [],
   "source": [
    "#matriz estacionaria \n",
    "eigenvals, eigenvecs = np.linalg.eig(similitud_suavizada.T)"
   ]
  },
  {
   "cell_type": "code",
   "execution_count": 77,
   "metadata": {},
   "outputs": [
    {
     "data": {
      "text/plain": [
       "array([1.        , 0.8153397 , 0.85      , 0.85      , 0.16921579,\n",
       "       0.73532234, 0.72148101, 0.70594586, 0.68754862, 0.68004725,\n",
       "       0.66945273, 0.65454144, 0.6431729 , 0.62853714, 0.61929836,\n",
       "       0.60776598, 0.59825866, 0.19594073, 0.55380038, 0.54688728,\n",
       "       0.5306404 , 0.53905257, 0.50957113, 0.21905116, 0.23095466,\n",
       "       0.23981072, 0.24815559, 0.25322798, 0.46746667, 0.45805734,\n",
       "       0.44878054, 0.4365941 , 0.42346266, 0.27835949, 0.29070488,\n",
       "       0.29322531, 0.40640076, 0.38840452, 0.31680571, 0.37572683,\n",
       "       0.32429728, 0.33179103, 0.34577958, 0.35284293, 0.36332654,\n",
       "       0.36240862])"
      ]
     },
     "execution_count": 77,
     "metadata": {},
     "output_type": "execute_result"
    }
   ],
   "source": [
    "eigenvals"
   ]
  },
  {
   "cell_type": "code",
   "execution_count": 78,
   "metadata": {},
   "outputs": [
    {
     "data": {
      "text/plain": [
       "array([0.13025198, 0.16243131, 0.13832395, 0.138763  , 0.14584417,\n",
       "       0.16574867, 0.12272722, 0.12532491, 0.19473604, 0.12308305,\n",
       "       0.15839434, 0.14029028, 0.13679465, 0.17850507, 0.16033705,\n",
       "       0.17519889, 0.13340655, 0.15932836, 0.13873505, 0.14584417,\n",
       "       0.11886363, 0.20316807, 0.17085204, 0.13501553, 0.16573305,\n",
       "       0.15428668, 0.14674564, 0.1458129 , 0.18000885, 0.12397873,\n",
       "       0.16620675, 0.15116554, 0.13410374, 0.11653863, 0.12147489,\n",
       "       0.12070624, 0.12787865, 0.11648951, 0.17243135, 0.11859474,\n",
       "       0.15173423, 0.11729314, 0.13297605, 0.13564605, 0.16883771,\n",
       "       0.13822089])"
      ]
     },
     "execution_count": 78,
     "metadata": {},
     "output_type": "execute_result"
    }
   ],
   "source": [
    "eigenvecs[:,0]"
   ]
  },
  {
   "cell_type": "code",
   "execution_count": 79,
   "metadata": {},
   "outputs": [],
   "source": [
    "score = eigenvecs[:,0]"
   ]
  },
  {
   "cell_type": "code",
   "execution_count": 80,
   "metadata": {},
   "outputs": [],
   "source": [
    "sort_idx = np.argsort(-score)"
   ]
  },
  {
   "cell_type": "code",
   "execution_count": 81,
   "metadata": {},
   "outputs": [
    {
     "name": "stdout",
     "output_type": "stream",
     "text": [
      "Crear resumen:\n",
      "0.20: Sin embargo según fuentes\n",
      "ligadas a la operación la situación no\n",
      "es nada de fácil Bethia no\n",
      "tiene hoy los cerca de US 60 millones que\n",
      "debe pagarle al nuevo\n",
      "conglomerado considerando el valor al cual entró\n",
      "Discovery ajustado\n",
      "por UF y tipo de cambio\n",
      "0.19:   El 8 de\n",
      "abril pasado se cerró la fusión de dos gigantes y se\n",
      "creó Warner Bros\n",
      "Discovery un nuevo imperio de la TV pero esta vez\n",
      "enfocado en el\n",
      "streaming hoy por hoy el gran rey en el planeta de los\n",
      "contenidos\n",
      "0.18:   Por lo mismo las razones\n",
      "de Discovery para apalancar su\n",
      "negocio de cable a través de Mega están\n",
      "súper debilitadas y es mucho\n",
      "menos útil optar por un canal de TV en un\n",
      "país cuando ese negocio está\n",
      "débil y estás migrando a otro foco indica\n",
      "un conocedor de la industria\n",
      "0.18: \n",
      "Pero existía otra cláusula que se mantuvo en secreto hasta\n",
      "ahora a los\n",
      "tres años Discovery podía activar un put una opción de\n",
      "venta según la\n",
      "cual Bethia estaba obligada a recomprar su\n",
      "participación\n",
      "0.18:   La opción vencía a fines de\n",
      "2021 pero justo empezaron las\n",
      "tratativas para la fusión con Warner\n",
      "Bros\n"
     ]
    }
   ],
   "source": [
    "print(\"Crear resumen:\")\n",
    "for i in sort_idx[:5]:\n",
    "    print(wrap(\"%.2f: %s\" % (score[i], lineas[i])))"
   ]
  },
  {
   "cell_type": "code",
   "execution_count": null,
   "metadata": {},
   "outputs": [],
   "source": []
  }
 ],
 "metadata": {
  "kernelspec": {
   "display_name": "base",
   "language": "python",
   "name": "python3"
  },
  "language_info": {
   "codemirror_mode": {
    "name": "ipython",
    "version": 3
   },
   "file_extension": ".py",
   "mimetype": "text/x-python",
   "name": "python",
   "nbconvert_exporter": "python",
   "pygments_lexer": "ipython3",
   "version": "3.11.5"
  }
 },
 "nbformat": 4,
 "nbformat_minor": 2
}
