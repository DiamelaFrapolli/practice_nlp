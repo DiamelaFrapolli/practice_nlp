{
 "cells": [
  {
   "cell_type": "code",
   "execution_count": 2,
   "metadata": {},
   "outputs": [],
   "source": [
    "import pandas as pd\n",
    "import numpy as np\n",
    "import nltk\n",
    "import textwrap\n",
    "from nltk.corpus import stopwords\n",
    "from nltk import word_tokenize\n",
    "from sklearn.feature_extraction.text import TfidfVectorizer"
   ]
  },
  {
   "cell_type": "code",
   "execution_count": 4,
   "metadata": {},
   "outputs": [],
   "source": [
    "df = pd.read_csv('df_total.csv')"
   ]
  },
  {
   "cell_type": "code",
   "execution_count": 5,
   "metadata": {},
   "outputs": [
    {
     "data": {
      "text/html": [
       "<div>\n",
       "<style scoped>\n",
       "    .dataframe tbody tr th:only-of-type {\n",
       "        vertical-align: middle;\n",
       "    }\n",
       "\n",
       "    .dataframe tbody tr th {\n",
       "        vertical-align: top;\n",
       "    }\n",
       "\n",
       "    .dataframe thead th {\n",
       "        text-align: right;\n",
       "    }\n",
       "</style>\n",
       "<table border=\"1\" class=\"dataframe\">\n",
       "  <thead>\n",
       "    <tr style=\"text-align: right;\">\n",
       "      <th></th>\n",
       "      <th>url</th>\n",
       "      <th>news</th>\n",
       "      <th>Type</th>\n",
       "    </tr>\n",
       "  </thead>\n",
       "  <tbody>\n",
       "    <tr>\n",
       "      <th>0</th>\n",
       "      <td>https://www.larepublica.co/redirect/post/3201905</td>\n",
       "      <td>Durante el foro La banca articulador empresari...</td>\n",
       "      <td>Otra</td>\n",
       "    </tr>\n",
       "    <tr>\n",
       "      <th>1</th>\n",
       "      <td>https://www.larepublica.co/redirect/post/3210288</td>\n",
       "      <td>El regulador de valores de China dijo el domin...</td>\n",
       "      <td>Regulaciones</td>\n",
       "    </tr>\n",
       "    <tr>\n",
       "      <th>2</th>\n",
       "      <td>https://www.larepublica.co/redirect/post/3240676</td>\n",
       "      <td>En una industria históricamente masculina como...</td>\n",
       "      <td>Alianzas</td>\n",
       "    </tr>\n",
       "    <tr>\n",
       "      <th>3</th>\n",
       "      <td>https://www.larepublica.co/redirect/post/3342889</td>\n",
       "      <td>Con el dato de marzo el IPC interanual encaden...</td>\n",
       "      <td>Macroeconomia</td>\n",
       "    </tr>\n",
       "    <tr>\n",
       "      <th>4</th>\n",
       "      <td>https://www.larepublica.co/redirect/post/3427208</td>\n",
       "      <td>Ayer en Cartagena se dio inicio a la versión n...</td>\n",
       "      <td>Otra</td>\n",
       "    </tr>\n",
       "  </tbody>\n",
       "</table>\n",
       "</div>"
      ],
      "text/plain": [
       "                                                url  \\\n",
       "0  https://www.larepublica.co/redirect/post/3201905   \n",
       "1  https://www.larepublica.co/redirect/post/3210288   \n",
       "2  https://www.larepublica.co/redirect/post/3240676   \n",
       "3  https://www.larepublica.co/redirect/post/3342889   \n",
       "4  https://www.larepublica.co/redirect/post/3427208   \n",
       "\n",
       "                                                news           Type  \n",
       "0  Durante el foro La banca articulador empresari...           Otra  \n",
       "1  El regulador de valores de China dijo el domin...   Regulaciones  \n",
       "2  En una industria históricamente masculina como...       Alianzas  \n",
       "3  Con el dato de marzo el IPC interanual encaden...  Macroeconomia  \n",
       "4  Ayer en Cartagena se dio inicio a la versión n...           Otra  "
      ]
     },
     "execution_count": 5,
     "metadata": {},
     "output_type": "execute_result"
    }
   ],
   "source": [
    "df.head()"
   ]
  },
  {
   "cell_type": "code",
   "execution_count": 6,
   "metadata": {},
   "outputs": [
    {
     "data": {
      "text/plain": [
       "'En una industria históricamente masculina como lo es la aviación Viva presentó su avión rosado A320NEO que apuesta por la equidad de género la lucha contra el cáncer de mama la inclusión y la diversidad.Desde Francia llegó Go Pink que tuvo un precio promedio de US50 millones convirtiéndose en la aeronave número 20 de las 21 con las que finalizará el año esta aerolínea.En Viva estamos trabajando muy fuerte para que haya más mujeres. Actualmente el grupo ejecutivo está compuesto por 42 mujeres pero la meta es llegar en 2022 con 50 de ellas en nuestro staff señaló Félix Antelo CEO de Viva.Asimismo agregó que están evaluando traer otro avión con esta propuesta para el próximo año así como proyectan un crecimiento de 60 en sillas para el último trimestre de 2021 en comparación con el mismo periodo de 2019.Vamos a estar moviendo más de dos millones de pasajeros para finalizar el año es un número ambicioso pero estamos contentos por la reacción del mercado y porque muchos pasajeros están eligiendo a Viva por la flota nueva la nueva imagen y los precios bajos dijo.Sobre los planes de expansión internacional de la compañía la aerolínea continuará creciendo pues proyectan abrir 15 rutas en tres años.Tenemos una buena apuesta por Florida Nueva York República Dominicana y Buenos Aires probablemente para el próximo año contó Declan Ryan presidente del Grupo Viva.Del mismo modo reveló que se estudia una alianza con Viva Aerobus la aerolínea mexicana que recientemente empezó a operar en Colombia.Viva Aerobus es como un hijo para mí. Juan Carlos el CEO es un gran amigo y seguramente vamos a trabajar con ellos. Es algo que se contempla.Teniendo en cuenta la entrada de más empresas al modelo de low cost muchos cuestionan si la industria va camino a ser solo de este nicho no obstante es algo que no podrán asumir todas las aerolíneas según Ryan.En promedio las personas ahorran US50 al viajar con modelo de bajo costo es decir US14 billones han sido ahorrados por los colombianos. Sin embargo la historia de la aviación nos ha mostrado que cuando las grandes aerolíneas tratan de trabajar bajo el modelo de low cost no les funciona por sus costos.'"
      ]
     },
     "execution_count": 6,
     "metadata": {},
     "output_type": "execute_result"
    }
   ],
   "source": [
    "df[\"news\"][2]"
   ]
  },
  {
   "cell_type": "code",
   "execution_count": 10,
   "metadata": {},
   "outputs": [],
   "source": [
    "doc = df['news'].sample()"
   ]
  },
  {
   "cell_type": "code",
   "execution_count": 11,
   "metadata": {},
   "outputs": [
    {
     "name": "stdout",
     "output_type": "stream",
     "text": [
      "Más de 600 jóvenes de nueve nacionalidades diferentes han participado en la 7ª edición del Hackathon BBVA. El Reto Metaverso, en el que el banco proponía experimentar con soluciones financieras inmersivas, ha sido uno de los más concurridos, atrayendo a 82 competidores distribuidos en 16 equipos. El equipo que se ha alzado con el premio ha propuesto un juego virtual para fomentar la educación financiera entre las generaciones más jóvenes, que simula situaciones reales como reformar una casa o la compra de un coche y propone el uso de un ‘token’ en forma de  moneda virtual. Sus seis componentes, procedentes de España y Perú, se llevan un premio en metálico y la posibilidad de colaborar con BBVA en futuros proyectos de desarrollo.\n",
      "La propuesta ganadora del reto del metaverso en el Hackathon BBVA 2022, BBVA Metaverse Academy, plantea una plataforma inmersiva gamificada que ayuda a los ‘centennials’ a adquirir hábitos bancarios y comprender la funcionalidad de cada producto financiero enfrentándoles a simulaciones de situaciones reales.\n",
      "Solicitar un préstamo hipotecario para hacer reformas en su hogar virtual, adquirir una tarjeta para comprar ‘online’ o contratar un seguro para hacer frente a una inundación, son algunas de las actividades que pueden realizar los usuarios de esta academia interactiva. El proyecto del equipo ‘Los inmersionistas’, cuyo seis integrantes proceden de España y Perú, propone además un ‘token’ a modo de moneda virtual, los BBVA Coins, que los usuarios obtendrían a medida que van completando desafíos y que posteriormente podrían gastar en acciones que luchen por la sostenibilidad.\n",
      "Una vez culminada su experiencia en esta academia virtual, los usuarios tendrían la oportunidad de convertirse en embajadores de marca, ayudar a formar a los nuevos integrantes y adquirir una tarjeta personalizada con un NFT único de su avatar.\n",
      "“Lo que ha inclinado la balanza a favor de este proyecto es que propone una forma innovadora de llegar a un segmento de población más joven y menos habituado a interactuar con las entidades financieras en sus canales tradicionales, además de introducir herramientas atractivas, como los ‘tokens’ o la gamificación, para atraer su interés y participación”, explica Guillermo Delgado, responsable de Innovación en Ingeniería de BBVA España, que ha actuado como jurado, mentor y responsable del reto en el ‘hackathon’, y que destaca el alto nivel de todos los proyectos presentados.\n",
      "Innovación\n",
      "La Web3 pretende recuperar la descentralización de los primeros tiempos de internet, reducir la dependencia de los usuarios de las grandes tecnológicas, devolverles el control de sus datos y que la red sea más segura, libre de ciberdelitos y caídas generalizadas del servicio. Basada en ‘blockchain’, es además la tecnología que da vida a los mundos inmersivos en 3D.\n",
      "Todos los participantes en el reto, más de 80 distribuidos en 16 equipos y procedentes de España, México, Perú y Colombia, entre otros, han aportado sus ideas más visionarias e innovadoras sobre cómo podría plantearse la relación entre banco y cliente en un futuro entorno como el Espacio virtual BBVA. “Entre las demás propuestas recibidas están el despliegue de los productos financieros de manera muy visual e interactiva, la creación de avatares y asistentes virtuales o la incorporación interactiva de otras experiencias, como la compraventa de viviendas o la venta de seguros, para entender los riesgos a los que se enfrentan las empresas y cómo cubrirlos”, valora Pedro Muñoz, responsable de Open Innovation España en BBVA.\n",
      "Los seis miembros del equipo ganador se llevan un premio en metálico y los conocimientos adquiridos en el asesoramiento con el que han contado durante la competición, por parte de profesionales del banco y de las empresas colaboradoras como Google, Microsoft o Amazon Web Services (AWS). Para ellos supone, además, una pasarela de visibilización y la posibilidad de establecer sinergias con BBVA en el futuro. “Para el banco, el ‘hackathon’ es una gran oportunidad de apoyar el ecosistema de desarrolladores, descubrir puntos de vista frescos para resolver problemas y detectar talento con el que podríamos trabajar en nuevos proyectos en el futuro”, explica Iván Romo, manager de BBVA Open Innovation y parte del equipo organizador.\n",
      "Un talento que esta competición, organizada por BBVA Open Innovation con BBVA México, detecta en cada vez más países: en esta última edición ha recibido por primera vez participantes de Alemania, Cuba y Reino Unido. Los más de 600 competidores han sido en su mayoría jóvenes de entre 20 y 28 años procedentes también de Argentina, Colombia, Ecuador, España, México y Perú.\n",
      "Esta edición ha contado con el apoyo de AWS, CISCO, Google Cloud, Microsoft, Softtek y TCS.\n",
      "Además del desafío del metaverso, se han propuesto otros 12 retos centrados en temáticas muy diversas, como tecnología ‘blockchain’, gestión de cajeros, ‘retargeting’ o pymes, entre otras.\n",
      "La estrategia de BBVA orientada a impulsar la diversidad y la inclusión tuvo una presencia muy destacada en muchos de estos desafíos.\n",
      "Uno de ellos, planteado por el área de Talento y Cultura de Ingeniería de BBVA, buscaba el diseño de prototipos capaces de identificar sesgos de género en los contenidos de internet. El equipo ganador, ‘Legion 6X’, ha propuesto utilizar el servicio AWS SageMaker para entrenar e implementar un modelo de ‘machine learning’ que no solo detecte el contenido que atenta contra la igualdad y la inclusión, sino que también lo bloquee.\n",
      "El ganador absoluto de la competición, ‘The Code of Duty’ con su propuesta para el Reto Autenticación para todos, también está orientado hacia la inclusión. El equipo ha ideado una solución que, utilizando el giroscopio y el acelerómetro del teléfono móvil del cliente, detectaría su posición y movimientos, lo que permitiría saber si usa una silla de ruedas o tiene dificultades para desplazarse. Con esta información, combinada con el análisis de patrones de comportamiento (por ejemplo, compras frecuentes en farmacias o visitas a hospitales), el equipo ha planteado un algoritmo que predice cuándo un cliente puede pertenecer a un grupo de adultos mayores o con discapacidad. La solución serviría como complemento cuando falle alguno de los servicios de autenticación ya existentes, como la biometría o la contraseña.\n",
      "Reunidos en equipos de dos a seis integrantes, los participantes debían construir una solución desde cero en 40 horas ininterrumpidas, trabajando desde casa y con la ayuda de expertos de la industria durante el evento. Además, podían utilizar las tecnologías, productos y herramientas de BBVA y de las empresas colaboradoras para acelerar el desarrollo de las soluciones.\n",
      "Entre los criterios de evaluación para elegir a los proyectos ganadores, se han valorado su innovación y creatividad, su usabilidad, la resolución de reto y la ejecución.\n"
     ]
    }
   ],
   "source": [
    "print(doc.iloc[0])"
   ]
  },
  {
   "cell_type": "code",
   "execution_count": 14,
   "metadata": {},
   "outputs": [],
   "source": [
    "doc2 = textwrap.fill(doc.iloc[0], replace_whitespace=False, fix_sentence_endings=True)"
   ]
  },
  {
   "cell_type": "code",
   "execution_count": 16,
   "metadata": {},
   "outputs": [
    {
     "name": "stdout",
     "output_type": "stream",
     "text": [
      "Más de 600 jóvenes de nueve nacionalidades diferentes han participado\n",
      "en la 7ª edición del Hackathon BBVA. El Reto Metaverso, en el que el\n",
      "banco proponía experimentar con soluciones financieras inmersivas, ha\n",
      "sido uno de los más concurridos, atrayendo a 82 competidores\n",
      "distribuidos en 16 equipos.  El equipo que se ha alzado con el premio\n",
      "ha propuesto un juego virtual para fomentar la educación financiera\n",
      "entre las generaciones más jóvenes, que simula situaciones reales como\n",
      "reformar una casa o la compra de un coche y propone el uso de un\n",
      "‘token’ en forma de  moneda virtual.  Sus seis componentes,\n",
      "procedentes de España y Perú, se llevan un premio en metálico y la\n",
      "posibilidad de colaborar con BBVA en futuros proyectos de desarrollo.\n",
      "La propuesta ganadora del reto del metaverso en el Hackathon BBVA\n",
      "2022, BBVA Metaverse Academy, plantea una plataforma inmersiva\n",
      "gamificada que ayuda a los ‘centennials’ a adquirir hábitos bancarios\n",
      "y comprender la funcionalidad de cada producto financiero\n",
      "enfrentándoles a simulaciones de situaciones reales.\n",
      "Solicitar un\n",
      "préstamo hipotecario para hacer reformas en su hogar virtual, adquirir\n",
      "una tarjeta para comprar ‘online’ o contratar un seguro para hacer\n",
      "frente a una inundación, son algunas de las actividades que pueden\n",
      "realizar los usuarios de esta academia interactiva.  El proyecto del\n",
      "equipo ‘Los inmersionistas’, cuyo seis integrantes proceden de España\n",
      "y Perú, propone además un ‘token’ a modo de moneda virtual, los BBVA\n",
      "Coins, que los usuarios obtendrían a medida que van completando\n",
      "desafíos y que posteriormente podrían gastar en acciones que luchen\n",
      "por la sostenibilidad.\n",
      "Una vez culminada su experiencia en esta\n",
      "academia virtual, los usuarios tendrían la oportunidad de convertirse\n",
      "en embajadores de marca, ayudar a formar a los nuevos integrantes y\n",
      "adquirir una tarjeta personalizada con un NFT único de su avatar.\n",
      "“Lo\n",
      "que ha inclinado la balanza a favor de este proyecto es que propone\n",
      "una forma innovadora de llegar a un segmento de población más joven y\n",
      "menos habituado a interactuar con las entidades financieras en sus\n",
      "canales tradicionales, además de introducir herramientas atractivas,\n",
      "como los ‘tokens’ o la gamificación, para atraer su interés y\n",
      "participación”, explica Guillermo Delgado, responsable de Innovación\n",
      "en Ingeniería de BBVA España, que ha actuado como jurado, mentor y\n",
      "responsable del reto en el ‘hackathon’, y que destaca el alto nivel de\n",
      "todos los proyectos presentados.\n",
      "Innovación\n",
      "La Web3 pretende\n",
      "recuperar la descentralización de los primeros tiempos de internet,\n",
      "reducir la dependencia de los usuarios de las grandes tecnológicas,\n",
      "devolverles el control de sus datos y que la red sea más segura, libre\n",
      "de ciberdelitos y caídas generalizadas del servicio.  Basada en\n",
      "‘blockchain’, es además la tecnología que da vida a los mundos\n",
      "inmersivos en 3D.\n",
      "Todos los participantes en el reto, más de 80\n",
      "distribuidos en 16 equipos y procedentes de España, México, Perú y\n",
      "Colombia, entre otros, han aportado sus ideas más visionarias e\n",
      "innovadoras sobre cómo podría plantearse la relación entre banco y\n",
      "cliente en un futuro entorno como el Espacio virtual BBVA. “Entre las\n",
      "demás propuestas recibidas están el despliegue de los productos\n",
      "financieros de manera muy visual e interactiva, la creación de\n",
      "avatares y asistentes virtuales o la incorporación interactiva de\n",
      "otras experiencias, como la compraventa de viviendas o la venta de\n",
      "seguros, para entender los riesgos a los que se enfrentan las empresas\n",
      "y cómo cubrirlos”, valora Pedro Muñoz, responsable de Open Innovation\n",
      "España en BBVA.\n",
      "Los seis miembros del equipo ganador se llevan un\n",
      "premio en metálico y los conocimientos adquiridos en el asesoramiento\n",
      "con el que han contado durante la competición, por parte de\n",
      "profesionales del banco y de las empresas colaboradoras como Google,\n",
      "Microsoft o Amazon Web Services (AWS). Para ellos supone, además, una\n",
      "pasarela de visibilización y la posibilidad de establecer sinergias\n",
      "con BBVA en el futuro.  “Para el banco, el ‘hackathon’ es una gran\n",
      "oportunidad de apoyar el ecosistema de desarrolladores, descubrir\n",
      "puntos de vista frescos para resolver problemas y detectar talento con\n",
      "el que podríamos trabajar en nuevos proyectos en el futuro”, explica\n",
      "Iván Romo, manager de BBVA Open Innovation y parte del equipo\n",
      "organizador.\n",
      "Un talento que esta competición, organizada por BBVA\n",
      "Open Innovation con BBVA México, detecta en cada vez más países: en\n",
      "esta última edición ha recibido por primera vez participantes de\n",
      "Alemania, Cuba y Reino Unido.  Los más de 600 competidores han sido en\n",
      "su mayoría jóvenes de entre 20 y 28 años procedentes también de\n",
      "Argentina, Colombia, Ecuador, España, México y Perú.\n",
      "Esta edición ha\n",
      "contado con el apoyo de AWS, CISCO, Google Cloud, Microsoft, Softtek y\n",
      "TCS.\n",
      "Además del desafío del metaverso, se han propuesto otros 12\n",
      "retos centrados en temáticas muy diversas, como tecnología\n",
      "‘blockchain’, gestión de cajeros, ‘retargeting’ o pymes, entre otras.\n",
      "La estrategia de BBVA orientada a impulsar la diversidad y la\n",
      "inclusión tuvo una presencia muy destacada en muchos de estos\n",
      "desafíos.\n",
      "Uno de ellos, planteado por el área de Talento y Cultura de\n",
      "Ingeniería de BBVA, buscaba el diseño de prototipos capaces de\n",
      "identificar sesgos de género en los contenidos de internet.  El equipo\n",
      "ganador, ‘Legion 6X’, ha propuesto utilizar el servicio AWS SageMaker\n",
      "para entrenar e implementar un modelo de ‘machine learning’ que no\n",
      "solo detecte el contenido que atenta contra la igualdad y la\n",
      "inclusión, sino que también lo bloquee.\n",
      "El ganador absoluto de la\n",
      "competición, ‘The Code of Duty’ con su propuesta para el Reto\n",
      "Autenticación para todos, también está orientado hacia la inclusión.\n",
      "El equipo ha ideado una solución que, utilizando el giroscopio y el\n",
      "acelerómetro del teléfono móvil del cliente, detectaría su posición y\n",
      "movimientos, lo que permitiría saber si usa una silla de ruedas o\n",
      "tiene dificultades para desplazarse.  Con esta información, combinada\n",
      "con el análisis de patrones de comportamiento (por ejemplo, compras\n",
      "frecuentes en farmacias o visitas a hospitales), el equipo ha\n",
      "planteado un algoritmo que predice cuándo un cliente puede pertenecer\n",
      "a un grupo de adultos mayores o con discapacidad.  La solución\n",
      "serviría como complemento cuando falle alguno de los servicios de\n",
      "autenticación ya existentes, como la biometría o la contraseña.\n",
      "Reunidos en equipos de dos a seis integrantes, los participantes\n",
      "debían construir una solución desde cero en 40 horas ininterrumpidas,\n",
      "trabajando desde casa y con la ayuda de expertos de la industria\n",
      "durante el evento.  Además, podían utilizar las tecnologías, productos\n",
      "y herramientas de BBVA y de las empresas colaboradoras para acelerar\n",
      "el desarrollo de las soluciones.\n",
      "Entre los criterios de evaluación\n",
      "para elegir a los proyectos ganadores, se han valorado su innovación y\n",
      "creatividad, su usabilidad, la resolución de reto y la ejecución.\n"
     ]
    }
   ],
   "source": [
    "print(doc2)"
   ]
  },
  {
   "cell_type": "code",
   "execution_count": 21,
   "metadata": {},
   "outputs": [],
   "source": [
    "#Dividir el texto en lineas\n",
    "lineas = doc2.split('. ')"
   ]
  },
  {
   "cell_type": "code",
   "execution_count": 22,
   "metadata": {},
   "outputs": [
    {
     "data": {
      "text/plain": [
       "['Más de 600 jóvenes de nueve nacionalidades diferentes han participado\\nen la 7ª edición del Hackathon BBVA',\n",
       " 'El Reto Metaverso, en el que el\\nbanco proponía experimentar con soluciones financieras inmersivas, ha\\nsido uno de los más concurridos, atrayendo a 82 competidores\\ndistribuidos en 16 equipos',\n",
       " ' El equipo que se ha alzado con el premio\\nha propuesto un juego virtual para fomentar la educación financiera\\nentre las generaciones más jóvenes, que simula situaciones reales como\\nreformar una casa o la compra de un coche y propone el uso de un\\n‘token’ en forma de  moneda virtual',\n",
       " ' Sus seis componentes,\\nprocedentes de España y Perú, se llevan un premio en metálico y la\\nposibilidad de colaborar con BBVA en futuros proyectos de desarrollo.\\nLa propuesta ganadora del reto del metaverso en el Hackathon BBVA\\n2022, BBVA Metaverse Academy, plantea una plataforma inmersiva\\ngamificada que ayuda a los ‘centennials’ a adquirir hábitos bancarios\\ny comprender la funcionalidad de cada producto financiero\\nenfrentándoles a simulaciones de situaciones reales.\\r\\nSolicitar un\\npréstamo hipotecario para hacer reformas en su hogar virtual, adquirir\\nuna tarjeta para comprar ‘online’ o contratar un seguro para hacer\\nfrente a una inundación, son algunas de las actividades que pueden\\nrealizar los usuarios de esta academia interactiva',\n",
       " ' El proyecto del\\nequipo ‘Los inmersionistas’, cuyo seis integrantes proceden de España\\ny Perú, propone además un ‘token’ a modo de moneda virtual, los BBVA\\nCoins, que los usuarios obtendrían a medida que van completando\\ndesafíos y que posteriormente podrían gastar en acciones que luchen\\npor la sostenibilidad.\\r\\nUna vez culminada su experiencia en esta\\nacademia virtual, los usuarios tendrían la oportunidad de convertirse\\nen embajadores de marca, ayudar a formar a los nuevos integrantes y\\nadquirir una tarjeta personalizada con un NFT único de su avatar.\\r\\n“Lo\\nque ha inclinado la balanza a favor de este proyecto es que propone\\nuna forma innovadora de llegar a un segmento de población más joven y\\nmenos habituado a interactuar con las entidades financieras en sus\\ncanales tradicionales, además de introducir herramientas atractivas,\\ncomo los ‘tokens’ o la gamificación, para atraer su interés y\\nparticipación”, explica Guillermo Delgado, responsable de Innovación\\nen Ingeniería de BBVA España, que ha actuado como jurado, mentor y\\nresponsable del reto en el ‘hackathon’, y que destaca el alto nivel de\\ntodos los proyectos presentados.\\r\\nInnovación\\r\\nLa Web3 pretende\\nrecuperar la descentralización de los primeros tiempos de internet,\\nreducir la dependencia de los usuarios de las grandes tecnológicas,\\ndevolverles el control de sus datos y que la red sea más segura, libre\\nde ciberdelitos y caídas generalizadas del servicio',\n",
       " ' Basada en\\n‘blockchain’, es además la tecnología que da vida a los mundos\\ninmersivos en 3D.\\r\\nTodos los participantes en el reto, más de 80\\ndistribuidos en 16 equipos y procedentes de España, México, Perú y\\nColombia, entre otros, han aportado sus ideas más visionarias e\\ninnovadoras sobre cómo podría plantearse la relación entre banco y\\ncliente en un futuro entorno como el Espacio virtual BBVA',\n",
       " '“Entre las\\ndemás propuestas recibidas están el despliegue de los productos\\nfinancieros de manera muy visual e interactiva, la creación de\\navatares y asistentes virtuales o la incorporación interactiva de\\notras experiencias, como la compraventa de viviendas o la venta de\\nseguros, para entender los riesgos a los que se enfrentan las empresas\\ny cómo cubrirlos”, valora Pedro Muñoz, responsable de Open Innovation\\nEspaña en BBVA.\\r\\nLos seis miembros del equipo ganador se llevan un\\npremio en metálico y los conocimientos adquiridos en el asesoramiento\\ncon el que han contado durante la competición, por parte de\\nprofesionales del banco y de las empresas colaboradoras como Google,\\nMicrosoft o Amazon Web Services (AWS)',\n",
       " 'Para ellos supone, además, una\\npasarela de visibilización y la posibilidad de establecer sinergias\\ncon BBVA en el futuro',\n",
       " ' “Para el banco, el ‘hackathon’ es una gran\\noportunidad de apoyar el ecosistema de desarrolladores, descubrir\\npuntos de vista frescos para resolver problemas y detectar talento con\\nel que podríamos trabajar en nuevos proyectos en el futuro”, explica\\nIván Romo, manager de BBVA Open Innovation y parte del equipo\\norganizador.\\r\\nUn talento que esta competición, organizada por BBVA\\nOpen Innovation con BBVA México, detecta en cada vez más países: en\\nesta última edición ha recibido por primera vez participantes de\\nAlemania, Cuba y Reino Unido',\n",
       " ' Los más de 600 competidores han sido en\\nsu mayoría jóvenes de entre 20 y 28 años procedentes también de\\nArgentina, Colombia, Ecuador, España, México y Perú.\\r\\nEsta edición ha\\ncontado con el apoyo de AWS, CISCO, Google Cloud, Microsoft, Softtek y\\nTCS.\\r\\nAdemás del desafío del metaverso, se han propuesto otros 12\\nretos centrados en temáticas muy diversas, como tecnología\\n‘blockchain’, gestión de cajeros, ‘retargeting’ o pymes, entre otras.\\nLa estrategia de BBVA orientada a impulsar la diversidad y la\\ninclusión tuvo una presencia muy destacada en muchos de estos\\ndesafíos.\\r\\nUno de ellos, planteado por el área de Talento y Cultura de\\nIngeniería de BBVA, buscaba el diseño de prototipos capaces de\\nidentificar sesgos de género en los contenidos de internet',\n",
       " ' El equipo\\nganador, ‘Legion 6X’, ha propuesto utilizar el servicio AWS SageMaker\\npara entrenar e implementar un modelo de ‘machine learning’ que no\\nsolo detecte el contenido que atenta contra la igualdad y la\\ninclusión, sino que también lo bloquee.\\r\\nEl ganador absoluto de la\\ncompetición, ‘The Code of Duty’ con su propuesta para el Reto\\nAutenticación para todos, también está orientado hacia la inclusión.\\nEl equipo ha ideado una solución que, utilizando el giroscopio y el\\nacelerómetro del teléfono móvil del cliente, detectaría su posición y\\nmovimientos, lo que permitiría saber si usa una silla de ruedas o\\ntiene dificultades para desplazarse',\n",
       " ' Con esta información, combinada\\ncon el análisis de patrones de comportamiento (por ejemplo, compras\\nfrecuentes en farmacias o visitas a hospitales), el equipo ha\\nplanteado un algoritmo que predice cuándo un cliente puede pertenecer\\na un grupo de adultos mayores o con discapacidad',\n",
       " ' La solución\\nserviría como complemento cuando falle alguno de los servicios de\\nautenticación ya existentes, como la biometría o la contraseña.\\nReunidos en equipos de dos a seis integrantes, los participantes\\ndebían construir una solución desde cero en 40 horas ininterrumpidas,\\ntrabajando desde casa y con la ayuda de expertos de la industria\\ndurante el evento',\n",
       " ' Además, podían utilizar las tecnologías, productos\\ny herramientas de BBVA y de las empresas colaboradoras para acelerar\\nel desarrollo de las soluciones.\\r\\nEntre los criterios de evaluación\\npara elegir a los proyectos ganadores, se han valorado su innovación y\\ncreatividad, su usabilidad, la resolución de reto y la ejecución.']"
      ]
     },
     "execution_count": 22,
     "metadata": {},
     "output_type": "execute_result"
    }
   ],
   "source": [
    "lineas"
   ]
  },
  {
   "cell_type": "code",
   "execution_count": 23,
   "metadata": {},
   "outputs": [],
   "source": [
    "tokenizar = TfidfVectorizer(\n",
    "    stop_words=stopwords.words('spanish'),\n",
    "    norm = 'l1', #Con esto estamos diciendo que el valor máximo de cada una de las líneas no puede sumar más de uno (van de 0 a 1)\n",
    ")"
   ]
  },
  {
   "cell_type": "code",
   "execution_count": 24,
   "metadata": {},
   "outputs": [],
   "source": [
    "#Construimos la matriz con las lineas\n",
    "x = tokenizar.fit_transform(lineas)"
   ]
  },
  {
   "cell_type": "code",
   "execution_count": 26,
   "metadata": {},
   "outputs": [
    {
     "data": {
      "text/plain": [
       "<14x423 sparse matrix of type '<class 'numpy.float64'>'\n",
       "\twith 551 stored elements in Compressed Sparse Row format>"
      ]
     },
     "execution_count": 26,
     "metadata": {},
     "output_type": "execute_result"
    }
   ],
   "source": [
    "x\n",
    "#14 es el nro de filas, 423 es el nro de columnas\n",
    "#las filas son las lineas\n",
    "#las columnas son las palabras\n",
    "#dentro están los scores según la cant de veces que cada palabra aparece en cada linea"
   ]
  },
  {
   "cell_type": "code",
   "execution_count": 25,
   "metadata": {},
   "outputs": [],
   "source": [
    "def obtener_score(tfidf_row):\n",
    "    x = tfidf_row[tfidf_row != 0]\n",
    "    return x.mean()\n",
    "\n",
    "#Obtenemos el score de la linea a partir del promedio de los scores por cada palabra\n",
    "#solamente cuando no es una fila llena de 0, porque si no, va a dar un error al intentar\n",
    "#dividir por 0"
   ]
  },
  {
   "cell_type": "code",
   "execution_count": 28,
   "metadata": {},
   "outputs": [],
   "source": [
    "scores = np.zeros(len(lineas))\n",
    "for i in range(len(lineas)):\n",
    "    score = obtener_score(x[i,:])\n",
    "    scores[i] = score"
   ]
  },
  {
   "cell_type": "code",
   "execution_count": 31,
   "metadata": {},
   "outputs": [
    {
     "data": {
      "text/plain": [
       "array([0.1       , 0.0625    , 0.04347826, 0.01666667, 0.00934579,\n",
       "       0.02857143, 0.01818182, 0.11111111, 0.02173913, 0.01587302,\n",
       "       0.01923077, 0.04347826, 0.03571429, 0.04166667])"
      ]
     },
     "execution_count": 31,
     "metadata": {},
     "output_type": "execute_result"
    }
   ],
   "source": [
    "scores"
   ]
  },
  {
   "cell_type": "code",
   "execution_count": 34,
   "metadata": {},
   "outputs": [],
   "source": [
    "sort_idx = np.argsort(-scores)"
   ]
  },
  {
   "cell_type": "code",
   "execution_count": 35,
   "metadata": {},
   "outputs": [
    {
     "data": {
      "text/plain": [
       "array([ 7,  0,  1,  2, 11, 13, 12,  5,  8, 10,  6,  3,  9,  4],\n",
       "      dtype=int64)"
      ]
     },
     "execution_count": 35,
     "metadata": {},
     "output_type": "execute_result"
    }
   ],
   "source": [
    "sort_idx"
   ]
  },
  {
   "cell_type": "code",
   "execution_count": 37,
   "metadata": {},
   "outputs": [
    {
     "name": "stdout",
     "output_type": "stream",
     "text": [
      "Resumen:\n",
      "0.1111111111111111:Para ellos supone, además, una\n",
      "pasarela de visibilización y la posibilidad de establecer sinergias\n",
      "con BBVA en el futuro\n",
      "0.09999999999999999:Más de 600 jóvenes de nueve nacionalidades diferentes han participado\n",
      "en la 7ª edición del Hackathon BBVA\n",
      "0.06250000000000001:El Reto Metaverso, en el que el\n",
      "banco proponía experimentar con soluciones financieras inmersivas, ha\n",
      "sido uno de los más concurridos, atrayendo a 82 competidores\n",
      "distribuidos en 16 equipos\n",
      "0.04347826086956523: El equipo que se ha alzado con el premio\n",
      "ha propuesto un juego virtual para fomentar la educación financiera\n",
      "entre las generaciones más jóvenes, que simula situaciones reales como\n",
      "reformar una casa o la compra de un coche y propone el uso de un\n",
      "‘token’ en forma de  moneda virtual\n",
      "0.043478260869565216: Con esta información, combinada\n",
      "con el análisis de patrones de comportamiento (por ejemplo, compras\n",
      "frecuentes en farmacias o visitas a hospitales), el equipo ha\n",
      "planteado un algoritmo que predice cuándo un cliente puede pertenecer\n",
      "a un grupo de adultos mayores o con discapacidad\n"
     ]
    }
   ],
   "source": [
    "print(\"Resumen:\")\n",
    "oraciones = []\n",
    "for i in range(0,5):\n",
    "    oraciones.append([sort_idx[i], scores[sort_idx[i]], lineas[sort_idx[i]]])\n",
    "    print(f\"{scores[sort_idx[i]]}:{lineas[sort_idx[i]]}\")"
   ]
  },
  {
   "cell_type": "code",
   "execution_count": 39,
   "metadata": {},
   "outputs": [
    {
     "name": "stdout",
     "output_type": "stream",
     "text": [
      "Más de 600 jóvenes de nueve nacionalidades diferentes han participado\n",
      "en la 7ª edición del Hackathon BBVA\n",
      "El Reto Metaverso, en el que el\n",
      "banco proponía experimentar con soluciones financieras inmersivas, ha\n",
      "sido uno de los más concurridos, atrayendo a 82 competidores\n",
      "distribuidos en 16 equipos\n",
      " El equipo que se ha alzado con el premio\n",
      "ha propuesto un juego virtual para fomentar la educación financiera\n",
      "entre las generaciones más jóvenes, que simula situaciones reales como\n",
      "reformar una casa o la compra de un coche y propone el uso de un\n",
      "‘token’ en forma de  moneda virtual\n",
      "Para ellos supone, además, una\n",
      "pasarela de visibilización y la posibilidad de establecer sinergias\n",
      "con BBVA en el futuro\n",
      " Con esta información, combinada\n",
      "con el análisis de patrones de comportamiento (por ejemplo, compras\n",
      "frecuentes en farmacias o visitas a hospitales), el equipo ha\n",
      "planteado un algoritmo que predice cuándo un cliente puede pertenecer\n",
      "a un grupo de adultos mayores o con discapacidad\n"
     ]
    }
   ],
   "source": [
    "#Ordenar el resumen\n",
    "oraciones_ord = sorted(oraciones, key=lambda y: y[0])\n",
    "\n",
    "for item in oraciones_ord:\n",
    "    print(item[2])"
   ]
  }
 ],
 "metadata": {
  "kernelspec": {
   "display_name": "base",
   "language": "python",
   "name": "python3"
  },
  "language_info": {
   "codemirror_mode": {
    "name": "ipython",
    "version": 3
   },
   "file_extension": ".py",
   "mimetype": "text/x-python",
   "name": "python",
   "nbconvert_exporter": "python",
   "pygments_lexer": "ipython3",
   "version": "3.11.5"
  }
 },
 "nbformat": 4,
 "nbformat_minor": 2
}
