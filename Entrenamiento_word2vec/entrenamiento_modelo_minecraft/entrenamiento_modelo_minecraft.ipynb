{
 "cells": [
  {
   "cell_type": "code",
   "execution_count": null,
   "metadata": {},
   "outputs": [],
   "source": [
    "'''\n",
    "Word2Vec es un modelo que se utiliza para aprender representaciones \n",
    "vectoriales de palabras. Estas representaciones pueden capturar muchas \n",
    "propiedades lingüísticas de las palabras, como su significado semántico, \n",
    "gramatical y hasta contextual.\n",
    "'''"
   ]
  },
  {
   "cell_type": "code",
   "execution_count": 3,
   "metadata": {},
   "outputs": [],
   "source": [
    "import string\n",
    "from gensim.models import Word2Vec\n",
    "import PyPDF2\n",
    "import re"
   ]
  },
  {
   "cell_type": "code",
   "execution_count": 4,
   "metadata": {},
   "outputs": [],
   "source": [
    "with open ('minecraft_texto2.txt', 'r', encoding='utf-8') as file:\n",
    "    documento = file.read()"
   ]
  },
  {
   "cell_type": "code",
   "execution_count": 5,
   "metadata": {},
   "outputs": [],
   "source": [
    "#limpio el texto:\n",
    "\n",
    "documento_limpio = re.sub(r'\\[editar\\]', '', documento)\n",
    "documento_limpio = re.sub(r'[«»]', \"'\", documento_limpio)"
   ]
  },
  {
   "cell_type": "code",
   "execution_count": 9,
   "metadata": {},
   "outputs": [
    {
     "data": {
      "text/plain": [
       "'Minecraft es un videojuego de construcción de tipo \\'mundo abierto\\' o en inglés sandbox creado originalmente por el sueco Markus Persson (conocido comúnmente como \\'Notch\\'), que creo posteriormente Mojang Studios (actualmente parte de Microsoft).19\\u200b20\\u200b Está programado en el lenguaje de programación Java21\\u200b para la versión Java Edition y posteriormente desarrollado en C++ para la versión de Bedrock Edition.22\\u200b Fue lanzado el 17 de mayo de 2009, y después de numerosos cambios, su primera versión estable \\'1.0\\' fue publicada el 18 de noviembre de 2011.\\n\\n\\nMarkus Persson, el creador de Minecraft.\\nUn mes antes del lanzamiento de su versión completa se estrenó una versión para dispositivos móviles llamada Minecraft: Pocket Edition en Android,23\\u200b y el 17 de noviembre del mismo año fue lanzada la misma versión para iOS, aunque posteriormente esta pasaría a ser Minecraft: Bedrock Edition.24\\u200b25\\u200b El 9 de mayo de 2012 fue lanzada la versión del juego para Xbox 360 y PS3. Todas las versiones de Minecraft reciben actualizaciones constantes desde su lanzamiento. En octubre de 2014, Minecraft lanzó su edición para PlayStation Vita,26\\u200b desarrollada por Mojang y 4J Studios. Esta versión presenta las mismas actualizaciones y similares características que las otras versiones de consola; además, cuenta con el sistema de venta cruzada, es decir que al comprar la versión de PlayStation 3 se obtiene también la de PlayStation Vita. A marzo de 2024 se habían vendido más de 300 millones de copias, siendo actualmente el videojuego más vendido de la historia.27\\u200b28\\u200b\\n\\nEl 15 de septiembre de 2014, fue adquirido por la empresa Microsoft por un valor de 2500 millones de dólares estadounidenses. Este suceso provocó el alejamiento de Markus Persson de la compañía.28\\u200b En noviembre de 2016, Microsoft anunció el lanzamiento de la versión completa de Minecraft: Education Edition.29\\u200b\\n\\nJugabilidad\\n\\nMinecraft es un juego de mundo abierto, y no tiene un fin claramente definido (aunque sí que tiene una dimensión llamada a sí misma \\'The End\\', o en español \\'El Final\\' en donde después de entrar y matar a la dragona aparecen los créditos del juego y un poema).31\\u200b Esto permite una gran libertad en cuanto a la elección de su forma de jugar. A pesar de ello, el juego posee un sistema que otorga logros por completar ciertas acciones.32\\u200b33\\u200b La cámara es en primera persona, aunque los jugadores tienen la posibilidad de cambiarla a una perspectiva de tercera persona en cualquier momento.34\\u200b\\n\\nEl juego se centra en la colocación y destrucción de bloques, siendo que este se compone de objetos tridimensionales cúbicos, colocados sobre un patrón de rejilla fija. Estos cubos o bloques representan principalmente distintos elementos de la naturaleza, como tierra, piedra, minerales, troncos, entre otros.35\\u200b\\n\\nLos jugadores son libres de desplazarse por su entorno y modificarlo mediante la creación, recolección y transporte de los bloques que componen al juego, los cuales solo pueden ser colocados respetando la rejilla fija del juego.35\\u200b36\\u200b Los jugadores son capaces de crear además las denominadas \\'granjas\\', que son estructuras y mecanismos para conseguir un fin, aprovechándose de ciertas mecánicas del juego. En ciertos casos, algunas de ellas se terminan implementando al juego, como el observador.37\\u200b En el juego se pueden encontrar estructuras especiales como aldeas, galerías mineras, templos marinos, pirámides y templos selváticos.\\n\\nInicio\\nAl inicio del juego, el jugador se encuentra en un mundo generado de manera procedural mediante varios algoritmos, como el ruido Perlin, el ruido rosa entre otros38\\u200b, lo que permite que este sea inmenso, teniendo hasta 30 millones de bloques en todas las direcciones en las versiones actuales.39\\u200b40\\u200b Además de ser inmensamente grande, también hay una gran cantidad de diferentes mundos (diferentes versiones de los algoritmos mencionados) siendo así prácticamente imposible encontrarse dos mundos iguales, a no ser que en las opciones del mundo se le introduzca una \"semilla\" (seed en inglés), la cual es el código que identifica cada mundo.41\\u200b El jugador es libre de desplazarse por el terreno, conformado por distintos biomas, entre los que se encuentran desiertos, sabanas, selvas, océanos, llanuras, tundras, etcétera.39\\u200b42\\u200b43\\u200b El juego posee su propio ciclo de tiempo de día y noche, siendo que un día en el juego equivale a 20 minutos en la realidad.35\\u200b\\n\\nMundo\\nEl mundo no se genera por completo al principio, sino que está dividido en chunks (\\'trozos\\', \\'pedazos\\' traducido literalmente al español, pero sin adaptación oficial) de 16 × 16 bloques en horizontal y en las versiones actuales de 384 bloques en vertical.44\\u200b Los chunks cercanos al jugador se cargan en la memoria, pudiendo elegir la distancia mínima a la que se cargan.45\\u200b\\n\\nA medida que este se desplaza, se generan y añaden nuevos chunks al mundo.46\\u200b\\n\\nDificultad\\nIndependientemente de los varios modos de juego también se puede definir la dificultad del juego, siendo el modo más tranquilo el pacífico, que a diferencia de las demás dificultades, no permite que aparezcan monstruos en el juego que puedan herir al jugador.\\n\\nModos de juego\\nSupervivencia\\nEl modo supervivencia (survival en inglés) se basa en la vida real combinada con un poco de fantasía y se trata de la supervivencia al ataque de las múltiples criaturas que surgen en la oscuridad o de noche.47\\u200b El máximo aguante que tienen los personajes consta de 10 corazones (20 puntos de salud). En este modo las herramientas, armas y armadura se gastan con el uso.\\n\\nCreativo\\nEn el modo creativo (creative en inglés) se centra enteramente en el aspecto de la construcción libre. Los jugadores poseen un suministro ilimitado de todos los bloques y objetos del juego,48\\u200b que pueden colocar y destruir de forma instantánea. Además, no son atacados por los monstruos, son inmunes a todo daño (aunque sí pueden morir cayendo al vacío si están en Java Edition, o mediante el comando /kill) y pueden volar libremente por el mapa. En este modo no se pueden romper bloques sosteniendo espada, para prevenir la destrucción del entorno cuando el jugador golpea o ataca.\\n\\nExtremo\\nEl modo extremo (hardcore en inglés) es idéntico al modo supervivencia, con la diferencia de que tras la muerte del jugador este ya no puede volver a revivir y la dificultad está fijada en difícil.49\\u200b50\\u200b\\n\\nEspectador\\nEl modo espectador permite a los jugadores volar a través de bloques y ver el mundo sin interactuar con él. En este modo, la barra de acceso rápido se convierte en un menú que permite al jugador teletransportarse a los jugadores en la partida. También es posible ver desde el punto de vista de otro jugador o criatura.51\\u200b\\n\\nAventura\\nEl modo aventura (adventure en inglés) está destinado a los jugadores que se dedican a crear mapas para usuarios que deseen jugar en línea o solos. Este modo de juego se basa en los siguientes criterios que afectan al jugador en distintos sentidos:47\\u200b\\n\\nEl jugador solo puede romper un bloque si tiene la herramienta adecuada, y esta programada con comandos para que pueda ser rota.\\nSi el creador del mapa así lo configura, la dificultad no puede ser modificada por los jugadores.\\nMods y modos de juego no oficiales\\nAlgunos usuarios o desarrolladores avanzados optan por crear sus propios modos de juego y aplicarlos en servidores o mapas de aventura para jugar en modo de un jugador. Sin embargo, estos modos de juego suelen verse poco y la mayoría de los servidores modifican algunas extensiones para hacer parecer que tienen un modo de juego personalizado.[cita requerida]\\n\\nEn las primeras versiones preliminares de Minecraft, el único modo de juego disponible era similar al creativo actual. En particular, la versión clásica (que ya no recibe actualizaciones) aún puede jugarse gratuitamente desde navegadores web.20\\u200b\\n\\nMultijugador\\n\\nEl modo multijugador en Minecraft permite que varios jugadores interactúen y se comuniquen entre sí en un solo mundo. Está disponible a través de multijugador directo de juego a juego, juego LAN, pantalla dividida local (solo consola) y servidores (alojados por jugadores y negocios).52\\u200b Los jugadores pueden ejecutar sus propios servidores, usar un proveedor de alojamiento o conectarse directamente al juego de otro jugador a través de Xbox Live. Los mundos de un solo jugador tienen soporte de red de área local, lo que permite a los jugadores unirse a un mundo en computadoras interconectadas localmente sin una configuración de servidor.53\\u200b Los servidores multijugador de Minecraft están guiados por operadores de servidores, que tienen acceso a los comandos del servidor, como configurar la hora del día y teletransportar a los jugadores. Los operadores también pueden establecer restricciones con respecto a qué nombres de usuario o direcciones IP pueden o no ingresar al servidor.52\\u200b Los servidores multijugador tienen una amplia gama de actividades, y algunos servidores tienen sus propias reglas y costumbres únicas. El servidor más grande y popular es Hypixel, que ha sido visitado por más de 14 millones de jugadores únicos.54\\u200b55\\u200b El combate jugador contra jugador (PvP) se puede habilitar para permitir la lucha entre jugadores.56\\u200b Muchos servidores tienen complementos personalizados que permiten acciones que normalmente no son posibles.\\n\\nMinecraft Realms\\nEn 2013, Mojang anunció Minecraft Realms, un servicio de alojamiento de servidor destinado a permitir a los jugadores ejecutar juegos multijugador en servidor de manera fácil y segura sin tener que configurar uno propio.57\\u200b58\\u200b A diferencia de un servidor estándar, solo los jugadores invitados pueden unirse a los servidores de Realms y estos servidores no usan direcciones IP. Los propietarios de servidores de Minecraft: Java Edition Realms pueden invitar hasta veinte personas a jugar en su servidor, con hasta diez jugadores en línea a la vez. Los propietarios de servidores de Minecraft Realms pueden invitar hasta 3000 personas a jugar en su servidor, con hasta diez jugadores en línea a la vez.59\\u200b Los servidores de Minecraft: Java Edition Realms no admiten complementos creados por el usuario, pero los jugadores pueden jugar mapas personalizados de Minecraft .60\\u200b Los servidores de Minecraft Realms admiten complementos creados por el usuario, paquetes de recursos, paquetes de comportamiento y mapas personalizados de Minecraft .59\\u200b En la Electronic Entertainment Expo 2016, (conocida normalmente como \\'E3\\') se agregó soporte para juegos multiplataforma entre las plataformas Windows 10, iOS y Android a través de Realms a partir de junio de 2016,61\\u200b con soporte para Xbox One y Nintendo Switch más adelante en 2017,62\\u200b y soporte para dispositivos de realidad virtual . El 31 de julio de 2017, Mojang lanzó la versión beta de la actualización que permite el juego multiplataforma.63\\u200b El soporte de Nintendo Switch para Realms se lanzó en julio de 2018.64\\u200b\\n\\nPersonalización\\nLa comunidad de modding está formada por fanes, usuarios y programadores externos. Usando una variedad de interfaces de programas de aplicaciones que han surgido con el tiempo, han producido una amplia variedad de contenido descargable para Minecraft, como modificaciones, paquetes de texturas y mapas personalizados. Las modificaciones del código de Minecraft, llamadas mods, agregan una variedad de cambios en el juego, que van desde nuevos bloques, nuevos elementos, nuevas turbas hasta conjuntos completos de mecanismos para crear.65\\u200b66\\u200b\\n\\nLa comunidad de modding es responsable de un suministro sustancial de mods, desde los que mejoran el juego, como minimapas,67\\u200b puntos de ruta y contadores de durabilidad,68\\u200b hasta los que agregan al juego elementos de otros videojuegos y medios. Si bien una variedad de marcos de mod se desarrollaron de forma independiente mediante la ingeniería inversa del código, Mojang también mejoró Minecraft estándar con marcos oficiales para la modificación, lo que permite la producción de paquetes de recursos creados por la comunidad, que alteran ciertos elementos del juego, incluidas texturas y sonidos.69\\u200b Los jugadores también pueden crear sus propios \"mapas\" (archivos guardados personalizados del mundo) que a menudo contienen reglas específicas, desafíos, acertijos y misiones, y compartirlos para que otros jueguen.70\\u200b A estos mismos, se les suele llamar \\'mapmakers\\', o en español \\'creadores de mapas\\'.\\n\\nMojang agregó un modo aventura en agosto de 201271\\u200b y \"bloques de comando\" en octubre de 2012,72\\u200b que se crearon especialmente para mapas personalizados en Java Edition . Los paquetes de datos, introducidos en la versión 1.13 de Java Edition, permiten una mayor personalización, incluida la capacidad de agregar nuevos logros, dimensiones, funciones, tablas de botín, predicados, recetas, estructuras, etiquetas, configuraciones de generación mundial y biomas\\u200c.73\\u200b74\\u200b\\n\\nLa edición Xbox 360 admite contenido descargable, que está disponible para comprar a través de Xbox Games Store ; estos paquetes de contenido suelen contener máscaras de personajes adicionales.75\\u200b Más tarde recibió soporte para paquetes de texturas en su duodécima actualización de título mientras presentaba \"paquetes de mezcla\", que combina paquetes de texturas con paquetes de máscaras y cambios en los sonidos, la música y la interfaz de usuario del juego.76\\u200b El primer paquete de mash-up (y, por extensión, el primer paquete de texturas) para Xbox 360 Edition se lanzó el 4 de septiembre de 2013 y tenía como tema la franquicia Mass Effect.77\\u200b Sin embargo, a diferencia de la Edición Java, la Edición Xbox 360 no admite modificaciones creadas por jugadores ni mapas personalizados. El 17 de mayo de 2016 se lanzó en todo el mundo un paquete de recursos de promoción cruzada basado en la franquicia Super Mario de Nintendo para la edición de Wii U.78\\u200b Se anunció el lanzamiento de un paquete combinado basado en Fallout en Wii U Edition .79\\u200b En abril de 2018, se descubrió malware en varias máscaras descargables de Minecraft creadas por usuarios para usar con la edición Java del juego.80\\u200b81\\u200b Avast declaró que casi 50.000 cuentas estaban infectadas y, cuando se activaba, el malware intentaba reformatear el disco duro del usuario.81\\u200b80\\u200b Mojang solucionó rápidamente el problema y emitió una declaración que decía que \"el juego en sí no ejecutaría ni leería el código\",80\\u200b y solo se ejecutaría cuando se abriera la imagen que contenía la máscara.82\\u200b\\n\\nEn junio de 2017, Mojang lanzó una actualización conocida como \"Discovery Update\" para la versión Bedrock del juego.83\\u200b La actualización incluye un nuevo mapa, un nuevo modo de juego, el \"Mercado\", un catálogo de contenido generado por los usuarios que brinda a los creadores de Minecraft \"otra forma de ganarse la vida con el juego\", y más.84\\u200b85\\u200b86\\u200b\\n\\nMods populares.\\nEn la comunidad de Minecraft y de modding en general, existen una serie de mods que se utilizan mucho o son importantes para la estabilidad y compatibilidad de otros mods o del juego en general.\\n\\nForge, Fabric, Bukkit, Paper entre otros proyectos que modifican una instalación de un servidor o del cliente (jugador), las cuales implementan una API para desarrollar mods.\\nOptifine, mod para el cliente o el servidor que agrega características para mejorar el rendimiento y estética (capas).\\nRed Power 2, mod que agrega características avanzadas a Minecraft en forma de tecnología industrial, como bombas hidráulicas, paneles solares y tubos neumáticos, permitiendo incluso emular un ordenador completo basado en el MOS 6502 a través de las mecánicas del propio juego.87\\u200b88\\u200b89\\u200b\\nEdiciones de Minecraft\\nLa edición principal es la versión Java de PC, pero aun así existen otras tres ediciones: Bedrock Edition, Console o Legacy Edition y Education Edition.\\n\\nBedrock Edition\\nArtículo principal: Minecraft Bedrock\\nEn un principio, esta edición de Minecraft se desarrolló para ser una edición de bolsillo, siendo la edición disponible para teléfonos y tabletas. También hay una edición llamada Windows 10 Edition que se basa en la misma línea de desarrollo y el mismo código de Pocket Edition, aunque sólo está disponible para Windows 10 y está preparada para funcionar también en Holo Lens, dispositivos de realidad virtual de Microsoft y Oculus Rift. También la Pocket Edition normal tenía su soporte para estos dispositivos como con el Samsung Gear VR. Otras variantes de esta edición son Apple TV Edition y Fire TV Edition. Sin embargo, a partir de la versión 1.2, se unificó la jugabilidad de Pocket Edition con las de Windows 10, Xbox One S y los dispositivos de realidad virtual, bajo la llamada \"Bedrock Edition\", permitiendo el juego multijugador entre las plataformas anteriores, tanto en mundos con interconexión como en servidores multijugador. Luego de un tiempo se sumó la Nintendo Switch a esta edición, y finalmente la Playstation 4.\\n\\nLegacy Edition\\nEsta edición del juego, antes conocida como \"Console Edition\", estaba preparada para funcionar en consolas como Xbox 360, Xbox One, Wii U, Nintendo Switch, PS3 y PS4. La edición era muy similar a la edición Java y se podía jugar multijugador en distintas consolas con suscripciones, como es el caso de Xbox, con su servicio Xbox LIVE Gold. Con la llegada de la edición Bedrock a PS4 a fines de 2019 todas las ediciones Legacy fueron retiradas del mercado. Aunque siguen siendo accesibles en algunas plataformas, no recibirán más actualizaciones.\\n\\nEducation Edition\\nArtículo principal: Minecraft Education Edition\\nEsta es una edición especial de Minecraft Bedrock orientada al entorno estudiantil. Incorpora características exclusivas como los mundos tutorial, los PNJ (personajes no jugadores) y el modo de clase, junto con ítemes exclusivos como un pizarrón, además de una mesa de crafteo especial, recipiente y reductor para su uso en clases de química.\\n\\nEdición para la República Popular China\\nExiste una edición localizada de Minecraft en chino simplificado desarrollada por Mojang Studios y publicada por NetEase, destinada a los jugadores de la República Popular China. Esta edición está disponible tanto en Java Edition como en Bedrock y es idéntica a la edición comercializada por Mojang/Microsoft. Sin embargo, cuenta con una serie de diferencias, entre las cuales está su descarga gratuita (pero requiere registro y cumplir con las obligaciones de identidad de la República Popular China), uso de cuenta de NetEase en lugar de una cuenta de Mojang o Microsoft, el uso de un lanzador exclusivo, y su propia tienda, además de incluir unos mods preinstalados. Se han modificado y/o censurado los nombres de algunos elementos del juego, con tal de cumplir con las regulaciones del gobierno chino.[cita requerida]\\n\\nOtros títulos\\nMinecraft: Story Mode\\nArtículo principal: Minecraft: Story Mode\\nMinecraft: Story Mode es un juego point-and-click desarrollado y publicado por Telltale Games, basado en el videojuego sandbox Minecraft. El juego fue lanzado para Microsoft Windows, OS X, PlayStation 3, PlayStation 4, PlayStation Vita, Wii U, Xbox 360, Xbox One, Android y iOS. El juego fue desarrollado en asociación con Mojang, el desarrollador original de Minecraft. El juego sigue el formato episódico que Telltale Games ha utilizado en sus títulos como The Walking Dead, The Wolf Among Us, Tales from the Borderlands y Game of Thrones. El juego se centra en torno a un nuevo personaje, llamado Jesse, que puede ser tanto hombre o mujer, esto a elección del jugador. El protagonista y sus aliados intentan salvar su mundo al derrotar al Wither Storm.\\n\\nMinecraft Dungeons\\n\\nMinecraft Dungeons (en español Minecraft Mazmorras) es un videojuego perteneciente al género de rol de acción que se lanzó el 26 de mayo de 2020 para Windows, Xbox One, Nintendo Switch y PlayStation 4; más tarde se lanzó para macOS, Xbox Series X|S y PlayStation 5.90\\u200b91\\u200b Desarrollado por Mojang y, cuya conversión a las consolas, fue realizada por Double Eleven. Se puede jugar solo o en línea con hasta cuatro jugadores.92\\u200b\\nMinecraft Earth\\nEsta sección es un extracto de Minecraft Earth.\\nMinecraft Earth fue un videojuego perteneciente al género de sandbox de realidad aumentada, desarrollado por Mojang y publicado por Xbox Game Studios. Es una derivación del videojuego Minecraft, se anunció por primera vez en mayo del año 2019 y estuvo disponible para Android, iOS y iPadOS. El juego es gratuito y se lanzó como acceso temprano (Early access) por primera vez a principios de octubre de 2019. El juego recibió su última actualización el 5 de enero de 2021, dejando de estar disponible el 30 de junio del mismo año.93\\u200b\\nMinecraft Legends\\nEsta sección es un extracto de Minecraft Legends.\\n\\nMinecraft Legends es un juego derivado de Minecraft con la temática de estrategia desarrollado por Mojang Studios y Blackbird Interactive y publicado por Xbox Game Studios. Lanzado en Microsoft Windows, Xbox One, Xbox Series X/S, Nintendo Switch, PlayStation 4 y PlayStation 5, el 18 de abril de 2023.'"
      ]
     },
     "execution_count": 9,
     "metadata": {},
     "output_type": "execute_result"
    }
   ],
   "source": [
    "documento_limpio"
   ]
  },
  {
   "cell_type": "code",
   "execution_count": 10,
   "metadata": {},
   "outputs": [
    {
     "data": {
      "text/plain": [
       "20838"
      ]
     },
     "execution_count": 10,
     "metadata": {},
     "output_type": "execute_result"
    }
   ],
   "source": [
    "len(documento_limpio)"
   ]
  },
  {
   "cell_type": "code",
   "execution_count": 6,
   "metadata": {},
   "outputs": [
    {
     "data": {
      "text/plain": [
       "132"
      ]
     },
     "execution_count": 6,
     "metadata": {},
     "output_type": "execute_result"
    }
   ],
   "source": [
    "#Procesamiento de datos\n",
    "\n",
    "'''\n",
    "Dividimos todo el texto frases\n",
    "'''\n",
    "\n",
    "oraciones = documento_limpio.split('.')\n",
    "len(oraciones)"
   ]
  },
  {
   "cell_type": "code",
   "execution_count": 14,
   "metadata": {},
   "outputs": [
    {
     "data": {
      "text/plain": [
       "\"Minecraft es un videojuego de construcción de tipo 'mundo abierto' o en inglés sandbox creado originalmente por el sueco Markus Persson (conocido comúnmente como 'Notch'), que creo posteriormente Mojang Studios (actualmente parte de Microsoft)\""
      ]
     },
     "execution_count": 14,
     "metadata": {},
     "output_type": "execute_result"
    }
   ],
   "source": [
    "oraciones[0]"
   ]
  },
  {
   "cell_type": "code",
   "execution_count": 7,
   "metadata": {},
   "outputs": [],
   "source": [
    "#Limpiar oraciones: \n",
    "#Transformamos las oraciones en listas de palabras\n",
    "\n",
    "oraciones_limpias = []\n",
    "\n",
    "for oracion in oraciones:\n",
    "    #Eliminar puntuación y dividir por espacios\n",
    "    tokens = oracion.translate(str.maketrans('','',\n",
    "                                             string.punctuation)).split()\n",
    "    #Convertir a minúsculas\n",
    "    tokens = [word.lower() for word in tokens if word.isalpha()]\n",
    "    if tokens: #Añadimos solo si hay tokens\n",
    "        oraciones_limpias.append(tokens)\n",
    "    \n",
    " "
   ]
  },
  {
   "cell_type": "code",
   "execution_count": 8,
   "metadata": {},
   "outputs": [],
   "source": [
    "#Entrenamiento del modelo Word2vec\n",
    "\n",
    "model = Word2Vec(sentences=oraciones_limpias,\n",
    "                 vector_size=500,\n",
    "                 window=5,\n",
    "                 min_count=1,\n",
    "                 workers=8)\n",
    "\n",
    "\n",
    "#vector_size: el tamaño del embedding\n",
    "\n",
    "#window: cuántas palabras hacia atrás y adelante el modelo considera \n",
    "#para el contexto\n",
    "\n",
    "#min_count: cuántas veces tiene que aparecer una palabra \n",
    "#para ser considerada dentro del modelo\n",
    "\n",
    "#workers: cuántos procesadores deben trabajar a la vez"
   ]
  },
  {
   "cell_type": "code",
   "execution_count": 9,
   "metadata": {},
   "outputs": [
    {
     "data": {
      "text/plain": [
       "array([ 2.61376542e-03,  2.90901517e-03,  8.02143535e-04, -2.75423547e-04,\n",
       "        5.32471808e-04, -2.76457029e-03, -3.42931133e-04,  3.84432869e-03,\n",
       "        1.03751244e-03,  1.08760525e-03, -4.40577453e-04,  2.44043325e-03,\n",
       "        1.72473455e-03,  2.01034080e-03,  1.98552641e-03, -2.68593035e-03,\n",
       "       -1.96933094e-03, -1.03688263e-03,  5.28244302e-04,  1.43586972e-03,\n",
       "        1.27738295e-03,  7.92195089e-04,  2.04267027e-03,  1.18545408e-03,\n",
       "        2.70869030e-04, -1.53307209e-03, -5.61044617e-05,  2.07624654e-03,\n",
       "       -3.72330123e-03, -3.66061489e-04,  1.43053115e-03, -1.41592207e-03,\n",
       "        2.06768140e-03,  2.67612177e-05,  1.52996613e-03,  2.68705050e-03,\n",
       "        1.17271219e-03, -1.02916232e-03, -2.41044140e-03, -2.04367989e-05,\n",
       "       -2.47576297e-03,  9.43230465e-04, -1.19274680e-03,  9.97523661e-04,\n",
       "       -2.97871465e-03,  4.55496192e-04, -2.02609762e-03,  2.17484846e-03,\n",
       "       -8.72733828e-04, -8.12311424e-04, -2.30316567e-04, -1.92385761e-03,\n",
       "       -1.77572342e-03, -4.06537252e-03,  1.90584001e-03, -3.29157017e-04,\n",
       "        7.58924929e-04,  6.16681937e-04, -9.71718167e-04, -8.41878937e-04,\n",
       "        1.38180098e-03, -1.10782159e-03,  2.87754490e-04,  1.78947777e-03,\n",
       "       -1.67744083e-03,  2.65670894e-03,  1.31113498e-04, -2.38955996e-04,\n",
       "       -7.49189348e-04,  1.93478866e-03, -4.44235600e-04,  6.81974867e-04,\n",
       "        4.24765167e-04, -1.91804266e-03,  2.67017237e-03,  2.02611322e-03,\n",
       "        1.10119348e-03, -1.32577890e-03,  1.58633644e-04,  1.06827344e-03,\n",
       "       -1.60275318e-03,  3.10608826e-04, -2.25437596e-03,  1.77797559e-03,\n",
       "       -2.30708346e-03,  1.75741117e-03,  1.54948997e-04,  8.86458321e-04,\n",
       "        1.90947019e-03,  1.66797685e-03,  1.67434581e-03, -4.58242896e-04,\n",
       "       -2.24766950e-03, -5.60230576e-04, -1.26399472e-03, -1.18414604e-03,\n",
       "        9.74588504e-04,  1.85141776e-04, -8.27401294e-04, -1.60712935e-03,\n",
       "       -2.68681603e-03,  1.20098947e-03, -2.06623529e-03,  2.56131031e-03,\n",
       "        1.50594208e-03,  1.50030956e-03, -1.70235569e-03,  2.61715078e-03,\n",
       "       -2.03726301e-03,  2.90694810e-03, -1.23121066e-03, -1.56150083e-03,\n",
       "        7.44579651e-04,  1.12084195e-03,  2.74787133e-04,  4.02555015e-05,\n",
       "        1.77497359e-03, -3.43267922e-03,  1.47995213e-03, -1.88109046e-03,\n",
       "       -1.10302272e-03, -2.88730051e-04,  1.61345012e-03, -5.26992488e-04,\n",
       "        2.23593830e-04, -1.62321539e-03, -3.82340141e-03, -9.41616017e-04,\n",
       "       -2.54081422e-03, -1.48498191e-04,  3.98734119e-03,  3.04560745e-05,\n",
       "       -1.70295488e-03, -1.98280439e-03,  1.31757732e-03,  1.29874772e-03,\n",
       "        9.91224006e-05, -1.45183399e-03, -1.11145047e-04, -3.85976350e-03,\n",
       "       -8.38757667e-04,  3.19434563e-04, -1.63148961e-03,  3.23930173e-04,\n",
       "        8.41340981e-04,  1.92411547e-03,  1.39487605e-03, -8.14383267e-04,\n",
       "        1.17154780e-03,  2.13042740e-03,  2.13944959e-03, -8.22576927e-04,\n",
       "        4.19970340e-04,  3.58043797e-03, -5.07404038e-04,  1.97079193e-04,\n",
       "        1.27029314e-03,  6.91704801e-04, -3.15827946e-03,  2.89068819e-04,\n",
       "       -1.11076958e-03,  1.57628092e-03, -3.11232428e-03, -1.47624232e-04,\n",
       "        1.13917026e-03,  1.12194139e-04,  3.85964202e-04, -5.69714350e-04,\n",
       "        1.60266517e-03, -1.82221374e-05,  1.42136845e-03,  1.19771319e-03,\n",
       "        1.78927695e-03,  1.71875604e-03, -1.41835609e-03, -2.35347659e-03,\n",
       "       -4.99919348e-04, -9.06795845e-04,  1.16228429e-03,  5.22027723e-04,\n",
       "       -2.22880184e-03,  4.55938920e-04, -3.22766195e-04, -1.87884190e-03,\n",
       "       -1.74799969e-03, -4.46337624e-04, -1.09881826e-03,  7.82089424e-04,\n",
       "        6.28388021e-04,  2.37322785e-03,  3.83222196e-03, -1.13549537e-03,\n",
       "       -5.37478365e-04,  1.05404132e-03,  5.06769993e-07,  1.14333362e-03,\n",
       "       -4.66361496e-04,  4.91051469e-04,  1.29127165e-03, -6.82074053e-04,\n",
       "       -7.08825304e-04,  8.33404018e-04,  1.53545104e-03, -2.36784783e-03,\n",
       "        2.05027824e-03,  6.24871813e-04,  3.46955814e-04, -6.96762931e-04,\n",
       "       -3.54232918e-03,  1.51096203e-03, -2.28816713e-03, -3.24759772e-03,\n",
       "        5.45075163e-04, -1.95471174e-03, -4.60676325e-04, -2.66101654e-03,\n",
       "       -1.22219103e-03, -1.57803367e-03,  1.95285756e-04, -7.64880970e-04,\n",
       "        1.06543605e-03,  1.45634462e-03,  1.50213612e-03, -1.58606668e-03,\n",
       "        2.16410425e-03, -1.29973947e-03,  1.62993337e-03, -2.51940382e-03,\n",
       "       -4.43423982e-04, -1.05701224e-03, -6.85677922e-04,  1.19467895e-03,\n",
       "       -4.81336261e-04,  4.09311411e-04, -1.43592269e-03,  1.29881338e-03,\n",
       "       -1.80385448e-03, -2.38092477e-03,  1.26719926e-04, -1.46828790e-03,\n",
       "        5.02800103e-04, -1.39081862e-03, -1.81592710e-03,  2.55955965e-03,\n",
       "       -1.49282150e-03, -1.21277163e-03, -1.07505871e-03, -1.88331527e-03,\n",
       "       -1.65683555e-03,  8.89993738e-04,  1.77240185e-03, -1.52894284e-03,\n",
       "       -9.97553812e-04, -1.92311454e-05, -5.73831610e-04, -1.29443302e-03,\n",
       "        1.77772774e-03,  3.08456668e-03, -3.73949995e-03,  3.45141627e-04,\n",
       "       -4.26342785e-06, -1.68143742e-04, -1.70839718e-03, -1.05657533e-03,\n",
       "        1.49138330e-03,  2.16635549e-03, -9.35877979e-05,  9.39427933e-04,\n",
       "       -2.57908087e-03, -1.19788910e-03, -3.13166343e-03,  2.02792697e-03,\n",
       "        1.27770810e-03, -5.84160152e-04,  1.39726629e-03, -9.36117547e-04,\n",
       "        8.89396004e-04, -3.17768473e-03, -2.06215377e-03,  2.04537902e-03,\n",
       "       -7.19751057e-04, -1.85333789e-04, -2.68238736e-03, -2.30477378e-03,\n",
       "        1.38293486e-03, -2.05272040e-03,  2.52158032e-03,  8.16323794e-04,\n",
       "        1.17263012e-03,  4.00572499e-05, -1.85719936e-03,  4.04196605e-03,\n",
       "       -6.78452314e-04,  1.12718204e-03,  3.72601976e-03,  1.76389294e-03,\n",
       "        1.62515405e-03, -9.34297161e-04,  2.96519324e-03, -1.74193305e-03,\n",
       "       -1.50247093e-03,  2.03969656e-03,  1.47873769e-03, -5.71142882e-04,\n",
       "        6.21864107e-04, -2.42528296e-03, -1.93226512e-03,  8.04645460e-05,\n",
       "       -6.30169874e-04, -1.03544130e-03, -1.21713884e-03, -9.35310556e-04,\n",
       "        2.33802106e-03,  2.58889166e-03,  2.91932933e-03,  6.21431856e-04,\n",
       "        6.82080630e-04, -5.11601160e-04, -1.53660032e-04, -2.40631076e-03,\n",
       "        3.30388686e-03, -2.16882257e-03,  1.86708837e-03, -2.08668876e-03,\n",
       "       -2.37570447e-03, -7.61547417e-04, -1.95792317e-03,  7.64158263e-04,\n",
       "       -3.99596669e-04, -2.50968523e-03,  2.15966720e-03,  1.37784134e-03,\n",
       "        1.49489986e-03,  9.55231953e-04, -8.98165745e-04, -1.86013873e-03,\n",
       "        4.66582103e-04,  3.31949396e-03, -2.08135904e-03, -1.72011112e-03,\n",
       "        2.58706481e-04,  2.07362813e-03,  6.07993221e-04, -2.88326852e-03,\n",
       "       -9.09548835e-05,  1.38352581e-04, -1.39311911e-03,  1.73600973e-03,\n",
       "       -1.80325063e-03,  2.12938921e-03, -2.54627696e-04, -8.44412600e-04,\n",
       "       -3.46719264e-03,  3.02984874e-04,  1.25638457e-04,  2.00460805e-03,\n",
       "       -2.32397276e-03,  5.43187314e-04, -1.01506454e-03, -2.19397061e-03,\n",
       "        8.66274640e-04,  1.99649390e-03,  5.91877091e-04,  2.78583006e-03,\n",
       "        1.10643182e-03, -1.39691134e-03,  1.08511257e-03,  3.99675133e-04,\n",
       "       -4.02215286e-04,  2.71005323e-03, -1.04861951e-03, -1.66441232e-03,\n",
       "       -4.52560140e-04,  8.95877834e-04, -6.10766583e-04,  3.88482731e-04,\n",
       "       -1.14821002e-03, -3.42932908e-04, -2.26943474e-03, -1.52531918e-03,\n",
       "        2.32250104e-03, -1.44856237e-03,  2.58844200e-04,  3.10384459e-03,\n",
       "       -1.78673724e-03,  5.57520951e-04,  1.52493850e-03, -4.87838523e-04,\n",
       "        4.95535605e-05, -1.48051814e-03,  4.25136852e-04, -1.38016813e-03,\n",
       "       -2.22561019e-03,  1.95089891e-03,  3.47828143e-04,  3.02070007e-03,\n",
       "       -1.37560163e-03,  1.01349084e-03, -8.48718104e-04,  2.17442248e-05,\n",
       "       -1.40592770e-03, -2.29670753e-04, -9.95535171e-04, -2.18567206e-03,\n",
       "       -1.58969953e-03, -1.83351210e-03, -7.13482324e-04,  2.84573250e-03,\n",
       "        1.13516964e-03, -2.97166058e-04, -1.58266909e-03, -3.56929144e-04,\n",
       "       -2.55704578e-03, -7.25502963e-04,  9.08423390e-04,  5.98573417e-04,\n",
       "        4.19905933e-04, -1.94745907e-03, -1.48240721e-03, -3.43605148e-04,\n",
       "        6.28112000e-04,  3.45919427e-04,  8.94329452e-04, -4.36206057e-04,\n",
       "       -1.02375622e-03,  1.62114593e-04, -2.28534918e-03, -2.38962728e-03,\n",
       "        4.89188998e-04, -1.50342379e-03, -2.50419835e-03,  2.55593774e-03,\n",
       "       -1.14625564e-03, -1.22986163e-03, -1.70568455e-04, -3.96492804e-04,\n",
       "       -2.08692346e-03, -1.11373945e-03, -2.31168908e-03,  5.10446203e-04,\n",
       "       -5.69196302e-04, -9.93148307e-04,  1.42749189e-03, -5.25322102e-04,\n",
       "        4.84696636e-03,  1.08181534e-03,  3.19055369e-04,  1.07961765e-04,\n",
       "       -4.13904549e-04,  6.47042878e-04,  2.22797669e-03,  1.99036353e-04,\n",
       "       -4.37523377e-05, -2.36713444e-03,  7.43695477e-04, -1.81932293e-03,\n",
       "       -1.95421075e-04, -2.50605494e-03,  9.90194734e-04, -3.30525509e-05,\n",
       "        1.58734713e-03, -1.00490986e-03,  1.09532126e-03, -1.11043651e-03,\n",
       "        4.52543522e-04,  2.67716183e-04, -2.27121913e-04, -1.07717933e-03,\n",
       "       -8.11468752e-04,  2.26297788e-03, -9.46316344e-04, -1.63088541e-03,\n",
       "        3.06000788e-04, -1.72394060e-03, -2.71405122e-04,  2.48172809e-03,\n",
       "        2.32698116e-03,  5.73906618e-05,  6.22897758e-04, -2.22763722e-03,\n",
       "       -1.04456849e-03, -6.35471602e-04, -2.50597205e-03,  1.87139434e-04,\n",
       "        1.84697693e-03, -6.24980370e-04,  1.24032667e-03,  3.10668559e-03,\n",
       "       -6.10485615e-04,  1.02573249e-03,  2.42113904e-03, -1.90893677e-03,\n",
       "       -9.08305228e-05, -1.24207954e-03,  1.60887255e-03,  7.55787711e-04,\n",
       "       -1.29115768e-04, -6.46746194e-04, -2.78959353e-03, -1.47532159e-03],\n",
       "      dtype=float32)"
      ]
     },
     "execution_count": 9,
     "metadata": {},
     "output_type": "execute_result"
    }
   ],
   "source": [
    "#para saber cuál es el vector de la palabra 'minecraft'\n",
    "#nada, de curiosos no más\n",
    "#500 dimensiones\n",
    "vector = model.wv['minecraft']\n",
    "vector"
   ]
  },
  {
   "cell_type": "code",
   "execution_count": 10,
   "metadata": {},
   "outputs": [
    {
     "data": {
      "text/plain": [
       "[('de', 0.6116554737091064),\n",
       " ('la', 0.5835233330726624),\n",
       " ('y', 0.5831253528594971),\n",
       " ('se', 0.5571378469467163),\n",
       " ('el', 0.5451656579971313),\n",
       " ('que', 0.5364284515380859),\n",
       " ('un', 0.5204793214797974),\n",
       " ('juego', 0.5170227289199829),\n",
       " ('del', 0.51549232006073),\n",
       " ('en', 0.5126683712005615)]"
      ]
     },
     "execution_count": 10,
     "metadata": {},
     "output_type": "execute_result"
    }
   ],
   "source": [
    "#Ver las palabras más cercanas: \n",
    "\n",
    "palabras_cercanas = model.wv.most_similar('minecraft', topn=10)\n",
    "palabras_cercanas\n",
    "\n",
    "#Cuando el conjunto de datos es muy chico, no tiene ningún sentido lo que larga"
   ]
  },
  {
   "cell_type": "code",
   "execution_count": 11,
   "metadata": {},
   "outputs": [],
   "source": [
    "#para guardar\n",
    "model.save(\"minecraft.model\")\n",
    "#para cargar\n",
    "modelo_cargado = Word2Vec.load(\"minecraft.model\")"
   ]
  },
  {
   "cell_type": "code",
   "execution_count": 14,
   "metadata": {},
   "outputs": [],
   "source": [
    "#guardar embeddings:\n",
    "\n",
    "model.wv.save_word2vec_format('mine_emb.txt', binary = False)\n",
    "model.wv.save_word2vec_format('mine_emb.bin', binary = True)"
   ]
  },
  {
   "cell_type": "code",
   "execution_count": 16,
   "metadata": {},
   "outputs": [],
   "source": [
    "#para cargar un embedding:\n",
    "\n",
    "from gensim.models import KeyedVectors\n",
    "\n",
    "embeddings_cargados = KeyedVectors.load_word2vec_format('mine_emb.txt', \n",
    "                                                        binary = False)\n",
    "\n",
    "#o, si fue guardado como bin:\n",
    "\n",
    "embeddings_cargados = KeyedVectors.load_word2vec_format('mine_emb.bin', \n",
    "                                                        binary = True)"
   ]
  },
  {
   "cell_type": "code",
   "execution_count": 17,
   "metadata": {},
   "outputs": [],
   "source": [
    "def analogia(v1, v2, v3):\n",
    "    similitud = embeddings_cargados.most_similar(positive=[v1, v3], negative=[v2])\n",
    "    print(f\"{v1} es a {v2} como {similitud[0][0]} es a {v3}\")"
   ]
  },
  {
   "cell_type": "code",
   "execution_count": 18,
   "metadata": {},
   "outputs": [
    {
     "name": "stdout",
     "output_type": "stream",
     "text": [
      "minecraft es a juego como de es a java\n"
     ]
    }
   ],
   "source": [
    "analogia('minecraft','juego','java')\n",
    "#lo intentó :'p"
   ]
  }
 ],
 "metadata": {
  "kernelspec": {
   "display_name": "base",
   "language": "python",
   "name": "python3"
  },
  "language_info": {
   "codemirror_mode": {
    "name": "ipython",
    "version": 3
   },
   "file_extension": ".py",
   "mimetype": "text/x-python",
   "name": "python",
   "nbconvert_exporter": "python",
   "pygments_lexer": "ipython3",
   "version": "3.11.5"
  }
 },
 "nbformat": 4,
 "nbformat_minor": 2
}
