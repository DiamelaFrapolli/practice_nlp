{
 "cells": [
  {
   "cell_type": "code",
   "execution_count": 1,
   "metadata": {},
   "outputs": [],
   "source": [
    "import string\n",
    "from gensim.models import Word2Vec\n",
    "import PyPDF2\n",
    "import re"
   ]
  },
  {
   "cell_type": "code",
   "execution_count": 2,
   "metadata": {},
   "outputs": [],
   "source": [
    "def extraer_pdf(ruta):\n",
    "    with open(ruta, 'rb') as archivo:\n",
    "        lector = PyPDF2.PdfReader(archivo)\n",
    "        texto = ''\n",
    "        for pagina in range(len(lector.pages)):\n",
    "            texto+= lector.pages[pagina].extract_text()\n",
    "    return texto\n",
    "\n",
    "documento = extraer_pdf('cien_annos_de_soledad.pdf')"
   ]
  },
  {
   "cell_type": "code",
   "execution_count": 3,
   "metadata": {},
   "outputs": [
    {
     "data": {
      "text/plain": [
       "832032"
      ]
     },
     "execution_count": 3,
     "metadata": {},
     "output_type": "execute_result"
    }
   ],
   "source": [
    "len(documento)"
   ]
  },
  {
   "cell_type": "code",
   "execution_count": 5,
   "metadata": {},
   "outputs": [
    {
     "data": {
      "text/plain": [
       "8862"
      ]
     },
     "execution_count": 5,
     "metadata": {},
     "output_type": "execute_result"
    }
   ],
   "source": [
    "#dividimos el texto en frases usando la coma como separador:\n",
    "\n",
    "frases = documento.split(',')\n",
    "len(frases)"
   ]
  },
  {
   "cell_type": "code",
   "execution_count": 6,
   "metadata": {},
   "outputs": [],
   "source": [
    "frases_limpias = []\n",
    "\n",
    "for frase in frases:\n",
    "    #Eliminar puntuación y dividir por espacios:\n",
    "    tokens = frase.translate(str.maketrans('',\n",
    "                                           '',\n",
    "                                           string.punctuation)).split()\n",
    "    #convertir a minúsculas:\n",
    "    tokens = [word.lower() for word in tokens if word.isalpha()]\n",
    "    if tokens: #añadir solo si hay tokens\n",
    "        frases_limpias.append(tokens)"
   ]
  },
  {
   "cell_type": "code",
   "execution_count": 7,
   "metadata": {},
   "outputs": [],
   "source": [
    "#Entrenar modelo:\n",
    "\n",
    "model = Word2Vec(sentences=frases_limpias,\n",
    "                 vector_size=500,\n",
    "                 window=5,\n",
    "                 min_count=1,\n",
    "                 workers=8)"
   ]
  },
  {
   "cell_type": "code",
   "execution_count": 8,
   "metadata": {},
   "outputs": [
    {
     "data": {
      "text/plain": [
       "[('segundo', 0.998253583908081),\n",
       " ('coronel', 0.996035099029541),\n",
       " ('josé', 0.9951565265655518),\n",
       " ('tío', 0.9886648654937744),\n",
       " ('aureliano', 0.9875819087028503),\n",
       " ('buendia', 0.9859392046928406),\n",
       " ('raquel', 0.9831244945526123),\n",
       " ('arcadio', 0.982789933681488),\n",
       " ('yeso', 0.9825791120529175),\n",
       " ('promovió', 0.981997013092041)]"
      ]
     },
     "execution_count": 8,
     "metadata": {},
     "output_type": "execute_result"
    }
   ],
   "source": [
    "palabras_cercanas = model.wv.most_similar('buendía', topn=10)\n",
    "palabras_cercanas"
   ]
  },
  {
   "cell_type": "code",
   "execution_count": 9,
   "metadata": {},
   "outputs": [
    {
     "data": {
      "text/plain": [
       "[('guerra', 0.9999492168426514),\n",
       " ('mujer', 0.9999272227287292),\n",
       " ('toda', 0.9999235272407532),\n",
       " ('remedios', 0.9999119639396667),\n",
       " ('donde', 0.9999054670333862),\n",
       " ('tenía', 0.9998989701271057),\n",
       " ('desde', 0.9998973608016968),\n",
       " ('modo', 0.9998956918716431),\n",
       " ('muy', 0.9998893141746521),\n",
       " ('frente', 0.9998884797096252)]"
      ]
     },
     "execution_count": 9,
     "metadata": {},
     "output_type": "execute_result"
    }
   ],
   "source": [
    "palabras_cercanas = model.wv.most_similar('noche', topn=10)\n",
    "palabras_cercanas"
   ]
  },
  {
   "cell_type": "code",
   "execution_count": 10,
   "metadata": {},
   "outputs": [
    {
     "data": {
      "text/plain": [
       "[('tenía', 0.9999348521232605),\n",
       " ('noche', 0.999927282333374),\n",
       " ('desde', 0.9999228119850159),\n",
       " ('vio', 0.9999080896377563),\n",
       " ('toda', 0.9999052882194519),\n",
       " ('remedios', 0.9999030232429504),\n",
       " ('tanto', 0.9998984932899475),\n",
       " ('fernanda', 0.9998963475227356),\n",
       " ('tan', 0.999895453453064),\n",
       " ('podía', 0.9998922348022461)]"
      ]
     },
     "execution_count": 10,
     "metadata": {},
     "output_type": "execute_result"
    }
   ],
   "source": [
    "palabras_cercanas = model.wv.most_similar('mujer', topn=10)\n",
    "palabras_cercanas"
   ]
  },
  {
   "cell_type": "code",
   "execution_count": 11,
   "metadata": {},
   "outputs": [],
   "source": [
    "#guardar modelos\n",
    "model.save(\"100annos.model\")\n",
    "\n",
    "\n",
    "#guardar embeddings:\n",
    "\n",
    "model.wv.save_word2vec_format('100_emb.txt', binary = False)\n",
    "model.wv.save_word2vec_format('100_emb.bin', binary = True)"
   ]
  }
 ],
 "metadata": {
  "kernelspec": {
   "display_name": "base",
   "language": "python",
   "name": "python3"
  },
  "language_info": {
   "codemirror_mode": {
    "name": "ipython",
    "version": 3
   },
   "file_extension": ".py",
   "mimetype": "text/x-python",
   "name": "python",
   "nbconvert_exporter": "python",
   "pygments_lexer": "ipython3",
   "version": "3.11.5"
  }
 },
 "nbformat": 4,
 "nbformat_minor": 2
}
