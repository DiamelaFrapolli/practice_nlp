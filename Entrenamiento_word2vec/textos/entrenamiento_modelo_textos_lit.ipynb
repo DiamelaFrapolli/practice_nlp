{
 "cells": [
  {
   "cell_type": "code",
   "execution_count": 2,
   "metadata": {},
   "outputs": [],
   "source": [
    "import string\n",
    "from gensim.models import Word2Vec\n",
    "import re\n",
    "import os"
   ]
  },
  {
   "cell_type": "code",
   "execution_count": 3,
   "metadata": {},
   "outputs": [],
   "source": [
    "def extraer_txt(ruta):\n",
    "    with open(ruta, 'r', encoding='utf-8') as archivo:\n",
    "        texto = archivo.read()\n",
    "    return texto"
   ]
  },
  {
   "cell_type": "code",
   "execution_count": 4,
   "metadata": {},
   "outputs": [],
   "source": [
    "textos = []"
   ]
  },
  {
   "cell_type": "code",
   "execution_count": 5,
   "metadata": {},
   "outputs": [],
   "source": [
    "for i in range(1, 133):  \n",
    "    # Itera sobre los archivos texto_1.txt hasta texto_132.txt\n",
    "    ruta_archivo = f'texto_{i}.txt'\n",
    "    texto_extraido = extraer_txt(ruta_archivo)\n",
    "    textos.append(texto_extraido)"
   ]
  },
  {
   "cell_type": "code",
   "execution_count": 6,
   "metadata": {},
   "outputs": [
    {
     "data": {
      "text/plain": [
       "132"
      ]
     },
     "execution_count": 6,
     "metadata": {},
     "output_type": "execute_result"
    }
   ],
   "source": [
    "len(textos)"
   ]
  },
  {
   "cell_type": "code",
   "execution_count": 7,
   "metadata": {},
   "outputs": [],
   "source": [
    "#dividimos el texto en frases usando la coma como separador:\n",
    "oraciones_totales = []\n",
    "tamaño = 0\n",
    "\n",
    "for texto in textos:\n",
    "    tamaño = tamaño + len(texto)\n",
    "    oraciones = texto.split('.')\n",
    "    oraciones_totales.extend(oraciones)\n",
    "    "
   ]
  },
  {
   "cell_type": "code",
   "execution_count": 8,
   "metadata": {},
   "outputs": [
    {
     "data": {
      "text/plain": [
       "36306541"
      ]
     },
     "execution_count": 8,
     "metadata": {},
     "output_type": "execute_result"
    }
   ],
   "source": [
    "tamaño"
   ]
  },
  {
   "cell_type": "code",
   "execution_count": 9,
   "metadata": {},
   "outputs": [
    {
     "name": "stdout",
     "output_type": "stream",
     "text": [
      "505045\n"
     ]
    }
   ],
   "source": [
    "print(len(oraciones_totales))"
   ]
  },
  {
   "cell_type": "code",
   "execution_count": 10,
   "metadata": {},
   "outputs": [],
   "source": [
    "oraciones_limpias = []\n",
    "\n",
    "for oracion in oraciones_totales:\n",
    "    #Eliminar puntuación y dividir por espacios:\n",
    "    tokens = oracion.translate(str.maketrans('',\n",
    "                                           '',\n",
    "                                           string.punctuation)).split()\n",
    "    #convertir a minúsculas:\n",
    "    tokens = [word.lower() for word in tokens if word.isalpha()]\n",
    "    if tokens: #añadir solo si hay tokens\n",
    "        oraciones_limpias.append(tokens)"
   ]
  },
  {
   "cell_type": "code",
   "execution_count": 11,
   "metadata": {},
   "outputs": [],
   "source": [
    "#Entrenar modelo:\n",
    "\n",
    "model = Word2Vec(sentences=oraciones_limpias,\n",
    "                 vector_size=500,\n",
    "                 window=5,\n",
    "                 min_count=1,\n",
    "                 workers=8)"
   ]
  },
  {
   "cell_type": "code",
   "execution_count": 12,
   "metadata": {},
   "outputs": [
    {
     "data": {
      "text/plain": [
       "[('egoísmo', 0.8173757791519165),\n",
       " ('odio', 0.7894470691680908),\n",
       " ('sentimiento', 0.7838183045387268),\n",
       " ('cariño', 0.7597036361694336),\n",
       " ('orgullo', 0.758834183216095),\n",
       " ('respeto', 0.7501755952835083),\n",
       " ('decoro', 0.7409740686416626),\n",
       " ('castigo', 0.7211089134216309),\n",
       " ('desprecio', 0.7182967662811279),\n",
       " ('patriotismo', 0.7122797966003418)]"
      ]
     },
     "execution_count": 12,
     "metadata": {},
     "output_type": "execute_result"
    }
   ],
   "source": [
    "palabras_cercanas = model.wv.most_similar('amor', topn=10)\n",
    "palabras_cercanas"
   ]
  },
  {
   "cell_type": "code",
   "execution_count": 13,
   "metadata": {},
   "outputs": [
    {
     "data": {
      "text/plain": [
       "[('tarde', 0.8557620644569397),\n",
       " ('mañana', 0.7794113159179688),\n",
       " ('madrugada', 0.7502646446228027),\n",
       " ('hora', 0.7330758571624756),\n",
       " ('semana', 0.6852068305015564),\n",
       " ('fecha', 0.6556720733642578),\n",
       " ('operación', 0.6302555203437805),\n",
       " ('temporada', 0.6275692582130432),\n",
       " ('jornada', 0.6238430142402649),\n",
       " ('visita', 0.6231864094734192)]"
      ]
     },
     "execution_count": 13,
     "metadata": {},
     "output_type": "execute_result"
    }
   ],
   "source": [
    "palabras_cercanas = model.wv.most_similar('noche', topn=10)\n",
    "palabras_cercanas"
   ]
  },
  {
   "cell_type": "code",
   "execution_count": 14,
   "metadata": {},
   "outputs": [
    {
     "data": {
      "text/plain": [
       "[('doncella', 0.7596890330314636),\n",
       " ('niña', 0.7548633813858032),\n",
       " ('criatura', 0.7523576021194458),\n",
       " ('persona', 0.7441983819007874),\n",
       " ('muchacha', 0.7386832237243652),\n",
       " ('novia', 0.7080885767936707),\n",
       " ('esposa', 0.6987743973731995),\n",
       " ('hermana', 0.685944139957428),\n",
       " ('parienta', 0.6769557595252991),\n",
       " ('amiga', 0.675713837146759)]"
      ]
     },
     "execution_count": 14,
     "metadata": {},
     "output_type": "execute_result"
    }
   ],
   "source": [
    "palabras_cercanas = model.wv.most_similar('mujer', topn=10)\n",
    "palabras_cercanas"
   ]
  },
  {
   "cell_type": "code",
   "execution_count": 15,
   "metadata": {},
   "outputs": [],
   "source": [
    "#guardar modelos\n",
    "model.save(\"lit_esp.model\")\n",
    "\n",
    "\n",
    "#guardar embeddings:\n",
    "\n",
    "model.wv.save_word2vec_format('lit_esp.txt', binary = False)\n",
    "model.wv.save_word2vec_format('lit_esp.bin', binary = True)"
   ]
  },
  {
   "cell_type": "code",
   "execution_count": 17,
   "metadata": {},
   "outputs": [],
   "source": [
    "from gensim.models import KeyedVectors\n",
    "\n",
    "embeddings_cargados = KeyedVectors.load_word2vec_format('lit_esp.txt', \n",
    "                                                        binary = False)\n"
   ]
  }
 ],
 "metadata": {
  "kernelspec": {
   "display_name": "base",
   "language": "python",
   "name": "python3"
  },
  "language_info": {
   "codemirror_mode": {
    "name": "ipython",
    "version": 3
   },
   "file_extension": ".py",
   "mimetype": "text/x-python",
   "name": "python",
   "nbconvert_exporter": "python",
   "pygments_lexer": "ipython3",
   "version": "3.11.5"
  }
 },
 "nbformat": 4,
 "nbformat_minor": 2
}
